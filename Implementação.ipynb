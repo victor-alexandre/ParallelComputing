{
  "nbformat": 4,
  "nbformat_minor": 0,
  "metadata": {
    "colab": {
      "name": "Implementação.ipynb",
      "provenance": [],
      "collapsed_sections": []
    },
    "kernelspec": {
      "name": "python3",
      "display_name": "Python 3"
    },
    "accelerator": "GPU"
  },
  "cells": [
    {
      "cell_type": "markdown",
      "metadata": {
        "id": "CmRndhkVuE36",
        "colab_type": "text"
      },
      "source": [
        "**Instituto de Informática - UFG**\n",
        "\n",
        "**Disciplina: Computação paralela 2020/1**\n",
        "\n",
        "**Professor: Wellington Martins**\n",
        "\n",
        "**Aluno: Victor Alexandre de Carvalho Coelho**\n",
        "\n",
        "\n"
      ]
    },
    {
      "cell_type": "markdown",
      "metadata": {
        "id": "IICcQoPEwZ4X",
        "colab_type": "text"
      },
      "source": [
        "#Especificação do trabalho\n"
      ]
    },
    {
      "cell_type": "markdown",
      "metadata": {
        "id": "vWGqM2cTxywg",
        "colab_type": "text"
      },
      "source": [
        "**Descrição:** O objetivo deste trabalho é de sugerir melhorias na implementação do algoritmo proposto por [[Jain et al. 2016]](https://https://ieeexplore.ieee.org/document/7509360) com a finalidade de obter melhor desempenho; e também, **demonstrar *integralmente* o processo de implementação**.\n",
        "\n",
        "**Descrição:** O objetivo deste trabalho é de prover, detalhadamente, a implementação de um detector de bordas usando abordagens distintas, e também, fazer comparações entre elas a fim de se identificar qual abordagem possui melhor desempenho (speedup). Este trabalho possui como inspiração o artigo de [[Jain et al. 2016]](https://https://ieeexplore.ieee.org/document/7509360).\n",
        "\n",
        "\n",
        "Será usado CUDA-Python onde o código será executado na GPU disponível no ambiente do google colab. E, por se tratar de processamento de imagens, usaremos também OpenCV.\n",
        "\n",
        "**Resumo da abordagem de** [[Jain et al. 2016]](https://https://ieeexplore.ieee.org/document/7509360):\n",
        "\n",
        "**Resumo da minha abordagem:**"
      ]
    },
    {
      "cell_type": "markdown",
      "metadata": {
        "id": "ycOdn5Lnc0Me",
        "colab_type": "text"
      },
      "source": [
        "**Nota do autor:** Na elaboração deste trabalho, fiz várias pesquisas em artigos que propunham implementações paralelas e em nenhum deles foi disponibilizado o código fonte ou sequer algum detalhe da implementação. Se o objetivo destes trabalhos for de beneficiar uma entidade (jurídica ou física) em particular, então, creio que essa atitude seja aceitável. Agora, se o objetivo destes artigos é de expandir o conhecimento científico, me sinto na obrigação de me expressar e dizer que eles estão totalmente na contra-mão.\n",
        "\n",
        "\n",
        "Dito isto, quero estabelecer que o mínimo de transparência que um trabalho deve ter é igual ao mostrado por mim neste trabalho."
      ]
    },
    {
      "cell_type": "markdown",
      "metadata": {
        "id": "XMl327tWwKBT",
        "colab_type": "text"
      },
      "source": [
        "#Rascunho de comandos para ver algumas configurações da máquina"
      ]
    },
    {
      "cell_type": "code",
      "metadata": {
        "id": "5KWeL4Btcq6_",
        "colab_type": "code",
        "colab": {
          "base_uri": "https://localhost:8080/",
          "height": 34
        },
        "outputId": "845b0de8-2115-465d-f7c2-6359eb17e9fa"
      },
      "source": [
        "#Comando para ver as configurações da placa de vídeo\n",
        "#!nvidia-smi\n",
        "!lspci | grep -i --color 'vga\\|3d\\|2d'"
      ],
      "execution_count": null,
      "outputs": [
        {
          "output_type": "stream",
          "text": [
            "/bin/bash: lspci: command not found\n"
          ],
          "name": "stdout"
        }
      ]
    },
    {
      "cell_type": "code",
      "metadata": {
        "id": "EYdZxlrPl9qk",
        "colab_type": "code",
        "colab": {
          "base_uri": "https://localhost:8080/",
          "height": 445
        },
        "outputId": "3b0b54a7-b1a3-4d68-821d-4d36332dda51"
      },
      "source": [
        "#Comando para ver as configurações da CPU\n",
        "!lscpu\n"
      ],
      "execution_count": null,
      "outputs": [
        {
          "output_type": "stream",
          "text": [
            "Architecture:        x86_64\n",
            "CPU op-mode(s):      32-bit, 64-bit\n",
            "Byte Order:          Little Endian\n",
            "CPU(s):              2\n",
            "On-line CPU(s) list: 0,1\n",
            "Thread(s) per core:  2\n",
            "Core(s) per socket:  1\n",
            "Socket(s):           1\n",
            "NUMA node(s):        1\n",
            "Vendor ID:           GenuineIntel\n",
            "CPU family:          6\n",
            "Model:               63\n",
            "Model name:          Intel(R) Xeon(R) CPU @ 2.30GHz\n",
            "Stepping:            0\n",
            "CPU MHz:             2300.000\n",
            "BogoMIPS:            4600.00\n",
            "Hypervisor vendor:   KVM\n",
            "Virtualization type: full\n",
            "L1d cache:           32K\n",
            "L1i cache:           32K\n",
            "L2 cache:            256K\n",
            "L3 cache:            46080K\n",
            "NUMA node0 CPU(s):   0,1\n",
            "Flags:               fpu vme de pse tsc msr pae mce cx8 apic sep mtrr pge mca cmov pat pse36 clflush mmx fxsr sse sse2 ss ht syscall nx pdpe1gb rdtscp lm constant_tsc rep_good nopl xtopology nonstop_tsc cpuid tsc_known_freq pni pclmulqdq ssse3 fma cx16 pcid sse4_1 sse4_2 x2apic movbe popcnt aes xsave avx f16c rdrand hypervisor lahf_lm abm invpcid_single ssbd ibrs ibpb stibp fsgsbase tsc_adjust bmi1 avx2 smep bmi2 erms invpcid xsaveopt arat md_clear arch_capabilities\n"
          ],
          "name": "stdout"
        }
      ]
    },
    {
      "cell_type": "code",
      "metadata": {
        "id": "DkIQnWYEmxFM",
        "colab_type": "code",
        "colab": {
          "base_uri": "https://localhost:8080/",
          "height": 102
        },
        "outputId": "a9cef0a0-2941-46b7-ab4d-73f2e94f9979"
      },
      "source": [
        "#Versão da distribuição\n",
        "!lsb_release -a"
      ],
      "execution_count": null,
      "outputs": [
        {
          "output_type": "stream",
          "text": [
            "No LSB modules are available.\n",
            "Distributor ID:\tUbuntu\n",
            "Description:\tUbuntu 18.04.3 LTS\n",
            "Release:\t18.04\n",
            "Codename:\tbionic\n"
          ],
          "name": "stdout"
        }
      ]
    },
    {
      "cell_type": "code",
      "metadata": {
        "id": "h0Ln7xy4m0x5",
        "colab_type": "code",
        "colab": {
          "base_uri": "https://localhost:8080/",
          "height": 54
        },
        "outputId": "b7dfe5f3-fc34-4e95-d5cc-ea87188a5edf"
      },
      "source": [
        "#Versão do kernel\n",
        "!cat /proc/version"
      ],
      "execution_count": null,
      "outputs": [
        {
          "output_type": "stream",
          "text": [
            "Linux version 4.19.112+ (builder@a12462ca91c8) (Chromium OS 10.0_pre377782_p20200113-r10 clang version 10.0.0 (/var/cache/chromeos-cache/distfiles/host/egit-src/llvm-project 4e8231b5cf0f5f62c7a51a857e29f5be5cb55734)) #1 SMP Thu Jul 23 08:00:38 PDT 2020\n"
          ],
          "name": "stdout"
        }
      ]
    },
    {
      "cell_type": "code",
      "metadata": {
        "id": "yg4jAvBTm56i",
        "colab_type": "code",
        "colab": {
          "base_uri": "https://localhost:8080/",
          "height": 85
        },
        "outputId": "50a51ed6-0819-4df8-bea1-506d4602d0a2"
      },
      "source": [
        "!nvcc --version"
      ],
      "execution_count": null,
      "outputs": [
        {
          "output_type": "stream",
          "text": [
            "nvcc: NVIDIA (R) Cuda compiler driver\n",
            "Copyright (c) 2005-2019 NVIDIA Corporation\n",
            "Built on Sun_Jul_28_19:07:16_PDT_2019\n",
            "Cuda compilation tools, release 10.1, V10.1.243\n"
          ],
          "name": "stdout"
        }
      ]
    },
    {
      "cell_type": "markdown",
      "metadata": {
        "id": "j6-Yi_dNzRhu",
        "colab_type": "text"
      },
      "source": [
        "#Daqui pra cima é lixo (não precisamos instalar a última versão do Cuda, a 10 ja é suficiente)."
      ]
    },
    {
      "cell_type": "markdown",
      "metadata": {
        "id": "dA2PozDzzhf7",
        "colab_type": "text"
      },
      "source": [
        "#Codificação"
      ]
    },
    {
      "cell_type": "markdown",
      "metadata": {
        "id": "AOA3NI-Hzlgr",
        "colab_type": "text"
      },
      "source": [
        "**O primeiro passo é trocar o runtime do google colab para GPU**"
      ]
    },
    {
      "cell_type": "code",
      "metadata": {
        "id": "O26vkPzBi6SI",
        "colab_type": "code",
        "colab": {
          "base_uri": "https://localhost:8080/",
          "height": 68
        },
        "outputId": "ceb22eba-baa6-4910-e6d0-c439172fd091"
      },
      "source": [
        "!cmake --version"
      ],
      "execution_count": null,
      "outputs": [
        {
          "output_type": "stream",
          "text": [
            "cmake version 3.12.0\n",
            "\n",
            "CMake suite maintained and supported by Kitware (kitware.com/cmake).\n"
          ],
          "name": "stdout"
        }
      ]
    },
    {
      "cell_type": "code",
      "metadata": {
        "id": "VvEI8-0_jpQr",
        "colab_type": "code",
        "colab": {
          "base_uri": "https://localhost:8080/",
          "height": 34
        },
        "outputId": "c66184d3-a551-46f3-f1ae-6bf1a0ee0e36"
      },
      "source": [
        "#Versão do OpenCV\n",
        "!pkg-config --modversion opencv"
      ],
      "execution_count": null,
      "outputs": [
        {
          "output_type": "stream",
          "text": [
            "3.2.0\n"
          ],
          "name": "stdout"
        }
      ]
    },
    {
      "cell_type": "code",
      "metadata": {
        "id": "-c0K32WQzAVT",
        "colab_type": "code",
        "colab": {
          "base_uri": "https://localhost:8080/",
          "height": 357
        },
        "outputId": "3da71263-e235-4020-de32-37760d28e3ce"
      },
      "source": [
        "#Detalhes da placa de vídeo\n",
        "!nvidia-smi"
      ],
      "execution_count": null,
      "outputs": [
        {
          "output_type": "stream",
          "text": [
            "Sat Sep 12 14:33:34 2020       \n",
            "+-----------------------------------------------------------------------------+\n",
            "| NVIDIA-SMI 450.66       Driver Version: 418.67       CUDA Version: 10.1     |\n",
            "|-------------------------------+----------------------+----------------------+\n",
            "| GPU  Name        Persistence-M| Bus-Id        Disp.A | Volatile Uncorr. ECC |\n",
            "| Fan  Temp  Perf  Pwr:Usage/Cap|         Memory-Usage | GPU-Util  Compute M. |\n",
            "|                               |                      |               MIG M. |\n",
            "|===============================+======================+======================|\n",
            "|   0  Tesla T4            Off  | 00000000:00:04.0 Off |                    0 |\n",
            "| N/A   61C    P8    11W /  70W |      0MiB / 15079MiB |      0%      Default |\n",
            "|                               |                      |                 ERR! |\n",
            "+-------------------------------+----------------------+----------------------+\n",
            "                                                                               \n",
            "+-----------------------------------------------------------------------------+\n",
            "| Processes:                                                                  |\n",
            "|  GPU   GI   CI        PID   Type   Process name                  GPU Memory |\n",
            "|        ID   ID                                                   Usage      |\n",
            "|=============================================================================|\n",
            "|  No running processes found                                                 |\n",
            "+-----------------------------------------------------------------------------+\n"
          ],
          "name": "stdout"
        }
      ]
    },
    {
      "cell_type": "code",
      "metadata": {
        "id": "wS_AIQ8NzH8T",
        "colab_type": "code",
        "colab": {
          "base_uri": "https://localhost:8080/",
          "height": 85
        },
        "outputId": "4155b0d8-cd49-4347-d086-99956f051e57"
      },
      "source": [
        "#Detalhes do compilador\n",
        "!nvcc --version"
      ],
      "execution_count": null,
      "outputs": [
        {
          "output_type": "stream",
          "text": [
            "nvcc: NVIDIA (R) Cuda compiler driver\n",
            "Copyright (c) 2005-2019 NVIDIA Corporation\n",
            "Built on Sun_Jul_28_19:07:16_PDT_2019\n",
            "Cuda compilation tools, release 10.1, V10.1.243\n"
          ],
          "name": "stdout"
        }
      ]
    },
    {
      "cell_type": "code",
      "metadata": {
        "id": "UKhZaomGzBD8",
        "colab_type": "code",
        "colab": {
          "base_uri": "https://localhost:8080/",
          "height": 207
        },
        "outputId": "776ae70d-0bca-484e-8074-7e3b49b95056"
      },
      "source": [
        "#Instalando complemento para poder executar o nvcc a partir das células do notebook\n",
        "!pip install git+git://github.com/andreinechaev/nvcc4jupyter.git"
      ],
      "execution_count": null,
      "outputs": [
        {
          "output_type": "stream",
          "text": [
            "Collecting git+git://github.com/andreinechaev/nvcc4jupyter.git\n",
            "  Cloning git://github.com/andreinechaev/nvcc4jupyter.git to /tmp/pip-req-build-n2021rb2\n",
            "  Running command git clone -q git://github.com/andreinechaev/nvcc4jupyter.git /tmp/pip-req-build-n2021rb2\n",
            "Building wheels for collected packages: NVCCPlugin\n",
            "  Building wheel for NVCCPlugin (setup.py) ... \u001b[?25l\u001b[?25hdone\n",
            "  Created wheel for NVCCPlugin: filename=NVCCPlugin-0.0.2-cp36-none-any.whl size=4307 sha256=cfecf4fcdab4b36e60d67d8bb11258d4e7cd9dfe7b161a27ccf68ef655020e65\n",
            "  Stored in directory: /tmp/pip-ephem-wheel-cache-rxzrdsqt/wheels/10/c2/05/ca241da37bff77d60d31a9174f988109c61ba989e4d4650516\n",
            "Successfully built NVCCPlugin\n",
            "Installing collected packages: NVCCPlugin\n",
            "Successfully installed NVCCPlugin-0.0.2\n"
          ],
          "name": "stdout"
        }
      ]
    },
    {
      "cell_type": "code",
      "metadata": {
        "id": "PFCsQ0kO0UQP",
        "colab_type": "code",
        "colab": {
          "base_uri": "https://localhost:8080/",
          "height": 51
        },
        "outputId": "720e89c0-3e8d-46ef-c433-78b3e130c24b"
      },
      "source": [
        "#Carregando extensão\n",
        "%load_ext nvcc_plugin"
      ],
      "execution_count": null,
      "outputs": [
        {
          "output_type": "stream",
          "text": [
            "created output directory at /content/src\n",
            "Out bin /content/result.out\n"
          ],
          "name": "stdout"
        }
      ]
    },
    {
      "cell_type": "markdown",
      "metadata": {
        "id": "Qx4QX61F10R_",
        "colab_type": "text"
      },
      "source": [
        "**Exemplo de código em cuda**"
      ]
    },
    {
      "cell_type": "code",
      "metadata": {
        "id": "7xagccOb0kmJ",
        "colab_type": "code",
        "colab": {
          "base_uri": "https://localhost:8080/",
          "height": 51
        },
        "outputId": "20a509ab-d758-4b7b-ade6-96245e65d9f9"
      },
      "source": [
        "%%cu\n",
        "#include <stdio.h>\n",
        "#include <stdlib.h>\n",
        "__global__ void add(int *a, int *b, int *c) {\n",
        "*c = *a + *b;\n",
        "}\n",
        "int main() {\n",
        "int a, b, c;\n",
        "// host copies of variables a, b & c\n",
        "int *d_a, *d_b, *d_c;\n",
        "// device copies of variables a, b & c\n",
        "int size = sizeof(int);\n",
        "// Allocate space for device copies of a, b, c\n",
        "cudaMalloc((void **)&d_a, size);\n",
        "cudaMalloc((void **)&d_b, size);\n",
        "cudaMalloc((void **)&d_c, size);\n",
        "// Setup input values  \n",
        "c = 0;\n",
        "a = 3;\n",
        "b = 5;\n",
        "// Copy inputs to device\n",
        "cudaMemcpy(d_a, &a, size, cudaMemcpyHostToDevice);\n",
        "  cudaMemcpy(d_b, &b, size, cudaMemcpyHostToDevice);\n",
        "// Launch add() kernel on GPU\n",
        "add<<<1,1>>>(d_a, d_b, d_c);\n",
        "// Copy result back to host\n",
        "cudaError err = cudaMemcpy(&c, d_c, size, cudaMemcpyDeviceToHost);\n",
        "  if(err!=cudaSuccess) {\n",
        "      printf(\"CUDA error copying to Host: %s\\n\", cudaGetErrorString(err));\n",
        "  }\n",
        "printf(\"result is %d\\n\",c);\n",
        "// Cleanup\n",
        "cudaFree(d_a);\n",
        "cudaFree(d_b);\n",
        "cudaFree(d_c);\n",
        "return 0;\n",
        "}"
      ],
      "execution_count": null,
      "outputs": [
        {
          "output_type": "stream",
          "text": [
            "result is 8\n",
            "\n"
          ],
          "name": "stdout"
        }
      ]
    },
    {
      "cell_type": "code",
      "metadata": {
        "id": "fA1HQMHq1Sr1",
        "colab_type": "code",
        "colab": {}
      },
      "source": [
        "a = 16"
      ],
      "execution_count": null,
      "outputs": []
    },
    {
      "cell_type": "code",
      "metadata": {
        "id": "1tenFp6Z1Urx",
        "colab_type": "code",
        "colab": {
          "base_uri": "https://localhost:8080/",
          "height": 34
        },
        "outputId": "83836a09-4013-4926-9971-d915f9d3c9c1"
      },
      "source": [
        "a\n"
      ],
      "execution_count": null,
      "outputs": [
        {
          "output_type": "execute_result",
          "data": {
            "text/plain": [
              "16"
            ]
          },
          "metadata": {
            "tags": []
          },
          "execution_count": 9
        }
      ]
    },
    {
      "cell_type": "markdown",
      "metadata": {
        "id": "Nj5kVIfHjABg",
        "colab_type": "text"
      },
      "source": [
        "**Mostrando as imagens na tela**\n"
      ]
    },
    {
      "cell_type": "code",
      "metadata": {
        "id": "El7Sd8kd1VVR",
        "colab_type": "code",
        "colab": {}
      },
      "source": [
        "%matplotlib inline\n",
        "\n",
        "import matplotlib\n",
        "import matplotlib.image as mpimg\n",
        "import matplotlib.pyplot as plt\n",
        "\n",
        "img_in_gray    =mpimg.imread('in.pgm')\n",
        "img_in_color   =mpimg.imread('in.ppm')\n",
        "img_out        =mpimg.imread('out.pgm')\n",
        "img_out_rgb    =mpimg.imread('out_rgb.ppm')\n",
        "img_in_out_yuv =mpimg.imread('out_yuv.ppm')\n",
        "img_in_out_hsl =mpimg.imread('out_hsl.ppm')\n",
        "\n",
        "print(\" img_in_gray :\")\n",
        "plt.imshow(img_in_gray)\n",
        "plt.show()\n",
        "\n",
        "print(\"img_in_color: \")\n",
        "plt.imshow(img_in_color)\n",
        "plt.show()\n",
        "\n",
        "print(\" img_out:\")\n",
        "plt.imshow(img_out)\n",
        "plt.show()\n",
        "\n",
        "print(\" img_out_rgb:\")\n",
        "plt.imshow(img_out_rgb)\n",
        "plt.show()\n",
        "\n",
        "print(\"img_in_out_yuv: \")\n",
        "plt.imshow(img_in_out_yuv)\n",
        "plt.show()\n",
        "\n",
        "print(\"img_in_out_hsl: \")\n",
        "plt.imshow(img_in_out_hsl)\n",
        "plt.show()\n",
        "\n",
        "print(\"done.\")"
      ],
      "execution_count": null,
      "outputs": []
    },
    {
      "cell_type": "markdown",
      "metadata": {
        "id": "sOpB9PJH9O8r",
        "colab_type": "text"
      },
      "source": [
        "Teste código OpenCV\n"
      ]
    },
    {
      "cell_type": "code",
      "metadata": {
        "id": "A0brpFwUlE1R",
        "colab_type": "code",
        "colab": {
          "base_uri": "https://localhost:8080/",
          "height": 34
        },
        "outputId": "ad7440db-d334-4fc1-8c87-752e38a54bf5"
      },
      "source": [
        "!echo $PWD"
      ],
      "execution_count": null,
      "outputs": [
        {
          "output_type": "stream",
          "text": [
            "/content\n"
          ],
          "name": "stdout"
        }
      ]
    },
    {
      "cell_type": "code",
      "metadata": {
        "id": "olugCpGE9MLo",
        "colab_type": "code",
        "colab": {}
      },
      "source": [
        "teste0 = \"\"\"\n",
        "/**\n",
        " * @brief      Hello Wolrd with an empty kernel.\n",
        " *\n",
        " *             This is a basic Hello World example where we use our first\n",
        " *             kernel, ableit empty.\n",
        " *\n",
        " *             From: http://www.nvidia.com/docs/io/116711/sc11-cuda-c-basics.pdf\n",
        " */\n",
        " \n",
        "#include <iostream>\n",
        "#include <string>\n",
        "\n",
        " \n",
        "/**\n",
        " * @brief      Emtpy kernel\n",
        " */\n",
        "__global__ void mykernel(void) {\n",
        "\n",
        "}\n",
        "\n",
        "int main(void) {\n",
        "\tmykernel<<<1,1>>>();\n",
        "\tstd::cout << \"Hello world!\" << std::endl;\n",
        "}\n",
        "\"\"\""
      ],
      "execution_count": null,
      "outputs": []
    },
    {
      "cell_type": "code",
      "metadata": {
        "id": "0Ao5b7zqsTbi",
        "colab_type": "code",
        "colab": {}
      },
      "source": [
        "text_file = open(\"teste0.cu\", \"w\")\n",
        "text_file.write(teste0)\n",
        "text_file.close()"
      ],
      "execution_count": null,
      "outputs": []
    },
    {
      "cell_type": "code",
      "metadata": {
        "id": "dEWMmv7dsaji",
        "colab_type": "code",
        "colab": {}
      },
      "source": [
        "!nvcc -o test0 teste0.cu `pkg-config opencv --cflags --libs`  "
      ],
      "execution_count": null,
      "outputs": []
    },
    {
      "cell_type": "code",
      "metadata": {
        "id": "myFPJrE1sfmu",
        "colab_type": "code",
        "colab": {
          "base_uri": "https://localhost:8080/",
          "height": 34
        },
        "outputId": "b3a7dd77-f04a-457b-8dab-c92acd39f466"
      },
      "source": [
        "!./test0"
      ],
      "execution_count": null,
      "outputs": [
        {
          "output_type": "stream",
          "text": [
            "Hello world!\n"
          ],
          "name": "stdout"
        }
      ]
    },
    {
      "cell_type": "code",
      "metadata": {
        "id": "ZrpjhN7qAHY2",
        "colab_type": "code",
        "colab": {
          "base_uri": "https://localhost:8080/",
          "height": 34
        },
        "outputId": "813e5860-9b75-4045-a85d-e160b44905cc"
      },
      "source": [
        "% cd /content"
      ],
      "execution_count": null,
      "outputs": [
        {
          "output_type": "stream",
          "text": [
            "/content\n"
          ],
          "name": "stdout"
        }
      ]
    },
    {
      "cell_type": "code",
      "metadata": {
        "id": "n3FHipSJAKqq",
        "colab_type": "code",
        "colab": {
          "base_uri": "https://localhost:8080/",
          "height": 34
        },
        "outputId": "e4d3dd54-7a36-44a0-e7c7-aa02ba99be63"
      },
      "source": [
        "! pwd"
      ],
      "execution_count": null,
      "outputs": [
        {
          "output_type": "stream",
          "text": [
            "/content\n"
          ],
          "name": "stdout"
        }
      ]
    },
    {
      "cell_type": "code",
      "metadata": {
        "id": "Y9llA_-4lVRO",
        "colab_type": "code",
        "colab": {
          "base_uri": "https://localhost:8080/",
          "height": 34
        },
        "outputId": "86ff54d1-54a1-48e4-85f6-8193b588bd3e"
      },
      "source": [
        "%%writefile teste1.cu\n",
        "/**\n",
        " * @brief      Image inversion.\n",
        " *\n",
        " *             This example provides a kernel that inverts the input image.\n",
        " *             However, this time it is performed by making use of readily\n",
        " *             available containers from Open CV. By starting with the low-level\n",
        " *             implementations from the previous example, we can now better\n",
        " *             understand what the available GpuMat object from Open CV exactly\n",
        " *             does: constructing and destructing a GpuMat allocates and frees\n",
        " *             GPU memory, whereas uploading and downloading perform the copying\n",
        " *             of the memory.\n",
        " *\n",
        " *             In addition, an Open CV object is used to make it easier to\n",
        " *             iterate over the raw image data, independent of the underlying\n",
        " *             data type and dimensions. To support both single-channel black\n",
        " *             and white images as well as color images, the kernel is turned\n",
        " *             into a template. Basic operations are provided for different\n",
        " *             underlying data types.\n",
        " *\n",
        " *             From: https://stackoverflow.com/a/35621962/6207953\n",
        " *\n",
        " *             Built-in data types from:\n",
        " *             http://docs.nvidia.com/cuda/cuda-c-programming-guide/index.html#built-in-vector-types\n",
        " */\n",
        "#include <iostream>\n",
        "#include <string>\n",
        "#include <cuda_runtime.h>\n",
        "#include <opencv2/opencv.hpp>  \n",
        "#include <opencv2/core/cuda/common.hpp>\n",
        "\n",
        "\n",
        "// global variables\n",
        "cv::cuda::GpuMat ginput, goutput;\n",
        "\n",
        "\n",
        "/**\n",
        " * @brief      Sets the value of a uchar type.\n",
        " *\n",
        " * @param[in]  val   The value\n",
        " * @param      out   The output\n",
        " */\n",
        "__device__ __forceinline__ void set_value(const int& val, uchar& out) {\n",
        "    out = val;\n",
        "}\n",
        "\n",
        "/**\n",
        " * @brief      Sets the value of a uchar3 type.\n",
        " *\n",
        " * @param[in]  val   The value\n",
        " * @param      out   The output\n",
        " */\n",
        "__device__ __forceinline__ void set_value(const int& val, uchar3& out) {\n",
        "    out.x = val;\n",
        "    out.y = val;\n",
        "    out.z = val;\n",
        "}\n",
        "\n",
        "/**\n",
        " * @brief      Subtraction for uchar3 types.\n",
        " *\n",
        " * @param[in]  in1   Input 1\n",
        " * @param[in]  in2   Input 2\n",
        " *\n",
        " * @return     Output\n",
        " */\n",
        "__device__ __forceinline__ uchar3 subtract_value(uchar3 in1, uchar3 in2) {\n",
        "\tuchar3 out;\n",
        "    out.x = in1.x - in2.x;\n",
        "    out.y = in1.y - in2.y;\n",
        "    out.z = in1.z - in2.z;\n",
        "    return out;\n",
        "}\n",
        "\n",
        "/**\n",
        " * @brief      Subtraction for uchar types.\n",
        " *\n",
        " * @param[in]  in1   Input 1\n",
        " * @param[in]  in2   Input 2\n",
        " *\n",
        " * @return     Output\n",
        " */\n",
        "__device__ __forceinline__ uchar subtract_value(uchar in1, uchar in2) {\n",
        "\tuchar out;\n",
        "    out = in1 - in2;\n",
        "    return out;\n",
        "}\n",
        "\n",
        "/**\n",
        " * @brief      The invert kernel.\n",
        " *\n",
        " *             This implementation uses some higher level open cv structures,\n",
        " *             based on:\n",
        " *\n",
        " *             https://stackoverflow.com/a/35621962/6207953\n",
        " *\n",
        " * @param[in]  input   The input\n",
        " * @param[in]  output  The output\n",
        " *\n",
        " * @tparam     T_in    The input type\n",
        " * @tparam     T_out   The output type\n",
        " */\n",
        "template <typename T_in, typename T_out>\n",
        "__global__ void invert_kernel_2(const cv::cuda::PtrStepSz<T_in> input, cv::cuda::PtrStepSz<T_out> output) {\n",
        "  const int x = blockIdx.x * blockDim.x + threadIdx.x;\n",
        "  const int y = blockIdx.y * blockDim.y + threadIdx.y;\n",
        "\n",
        "  if (x >= input.cols || y >= input.rows)\n",
        "      return;\n",
        "\n",
        "  T_out value;\n",
        "  set_value(255, value);\n",
        "\n",
        "  T_out result;\n",
        "  result = subtract_value(value, input(y,x));\n",
        "\n",
        "  output(y, x) = result;\n",
        "\n",
        "}\n",
        "\n",
        "/**\n",
        " * @brief      Initializes the invert kernel\n",
        " *\n",
        " *             Performs the required memory allocation on the CPU and GPU.\n",
        " *\n",
        " * @param[in]  input   The input\n",
        " * @param      output  The output\n",
        " */\n",
        "void invert_kernel_2_init(const cv::Mat& input, cv::Mat& output) {\n",
        "\tginput.create(input.rows, input.cols, input.type());\n",
        "    goutput.create(output.rows, output.cols, output.type());\n",
        "}\n",
        "\n",
        "/**\n",
        " * @brief      Terminates the invert kernel\n",
        " *\n",
        " *             Performs the required memory cleanup on the CPU and GPU.\n",
        " *\n",
        " * @param[in]  input   The input\n",
        " * @param      output  The output\n",
        " */\n",
        "void invert_kernel_2_exit(const cv::Mat& input, cv::Mat& output) {\n",
        "\tginput.release();\n",
        "\tgoutput.release();\n",
        "}\n",
        "\n",
        "/**\n",
        " * @brief      Calls the invert kernel.\n",
        " *\n",
        " * @param[in]  input   The input\n",
        " * @param[in]  output  The output\n",
        " */\n",
        "void call_invert_kernel_2(const cv::cuda::GpuMat& input, cv::cuda::GpuMat& output) {\n",
        "\t// Assert\n",
        "\tCV_Assert(input.channels() == 1 || input.channels() == 3); \n",
        "\n",
        "    // Specify a reasonable block size\n",
        "\tconst dim3 block(16,16);\n",
        "\n",
        "\t// Calculate grid size to cover the whole image\n",
        "\tconst dim3 grid(cv::cuda::device::divUp(input.cols, block.x), cv::cuda::device::divUp(input.rows, block.y));\n",
        "\n",
        "\t// Launch kernel\n",
        "\tif (input.channels() == 1) {\n",
        "\t  invert_kernel_2<uchar, uchar><<<grid, block>>>(input, output);\n",
        "\t}\n",
        "\telse if (input.channels() == 3) {\n",
        "\t  invert_kernel_2<uchar3, uchar3><<<grid, block>>>(input, output);\n",
        "\t}\n",
        "\n",
        "  // Get last error\n",
        "  cudaSafeCall(cudaGetLastError() );\n",
        "}\n",
        "\n",
        "/**\n",
        " * @brief      Wrapper for the invert kernel.\n",
        " *\n",
        " *             This implementation uses some higher level open cv structures,\n",
        " *             based on:\n",
        " *\n",
        " *             https://stackoverflow.com/a/35621962/6207953\n",
        " *\n",
        " * @param[in]  input   The input\n",
        " * @param[in]  output  The output\n",
        " */\n",
        "void invert_kernel_2(const cv::Mat& input, cv::Mat& output) {\n",
        "  ginput.upload(input);\n",
        "  call_invert_kernel_2(ginput, goutput);    \n",
        "  goutput.download(output);\n",
        "}\n",
        "\n",
        "\n",
        "// ----------------------------------------------------------------------\n",
        "\n",
        "\n",
        "int main() {\n",
        "\t// Read input image from the disk\n",
        "\tstd::string imagePath = \"image.jpg\";\n",
        "\tcv::Mat input = cv::imread(imagePath,CV_LOAD_IMAGE_COLOR);\n",
        "\n",
        "\tif(input.empty())\t{\n",
        "\t\tstd::cout<<\"Image Not Found!\"<<std::endl;\n",
        "\t\tstd::cin.get();\n",
        "\t\treturn -1;\n",
        "\t}\n",
        "\n",
        "\t// Create output image\n",
        "\tcv::Mat output = cv::Mat::zeros(input.rows,input.cols,CV_8UC3);\n",
        "\n",
        "\t// Call the wrapper function\n",
        "\tinvert_kernel_2_init(input, output);\n",
        "\tinvert_kernel_2(input, output);\n",
        "\tinvert_kernel_2_exit(input, output);\n",
        "\n",
        "\t// Show the input and output\n",
        "\t//cv::imshow(\"Input\",input);\n",
        "\t//cv::imshow(\"Output\",output);\n",
        "\t\n",
        "\t// Wait for key press\n",
        "\t//cv::waitKey();\n",
        "\n",
        "\treturn 0;\n",
        "}\n"
      ],
      "execution_count": null,
      "outputs": [
        {
          "output_type": "stream",
          "text": [
            "Writing teste1.cu\n"
          ],
          "name": "stdout"
        }
      ]
    },
    {
      "cell_type": "code",
      "metadata": {
        "id": "X9gKjNgMvxFh",
        "colab_type": "code",
        "colab": {
          "base_uri": "https://localhost:8080/",
          "height": 34
        },
        "outputId": "55194de3-1a66-43e7-ad5a-ddc62b9b8904"
      },
      "source": [
        "%%writefile teste1.cu\n",
        "#include <iostream>\n",
        "using namespace std;\n",
        "\n",
        "#include <opencv2/core.hpp>\n",
        "using namespace cv;\n",
        "\n",
        "//#include <opencv2/cudaarithm.hpp>\n",
        "using namespace cv::cuda;\n",
        "\n",
        "#include <cuda_runtime.h>\n",
        "\n",
        "int main()\n",
        "{\n",
        "    printShortCudaDeviceInfo(getDevice());\n",
        "    int cuda_devices_number = getCudaEnabledDeviceCount();\n",
        "    cout << \"CUDA Device(s) Number: \"<< cuda_devices_number << endl;\n",
        "    DeviceInfo _deviceInfo;\n",
        "    bool _isd_evice_compatible = _deviceInfo.isCompatible();\n",
        "    cout << \"CUDA Device(s) Compatible: \" << _isd_evice_compatible << endl;\n",
        "    return 0;\n",
        "}"
      ],
      "execution_count": null,
      "outputs": [
        {
          "output_type": "stream",
          "text": [
            "Overwriting teste1.cu\n"
          ],
          "name": "stdout"
        }
      ]
    },
    {
      "cell_type": "code",
      "metadata": {
        "id": "3R_edK-mu6Sz",
        "colab_type": "code",
        "colab": {
          "base_uri": "https://localhost:8080/",
          "height": 170
        },
        "outputId": "495eb052-4d46-45c8-a690-6922663b67bb"
      },
      "source": [
        "!nvcc teste1.cu -o teste1 -I /usr/local/include/opencv  `pkg-config opencv --cflags --libs`"
      ],
      "execution_count": null,
      "outputs": [
        {
          "output_type": "stream",
          "text": [
            "teste1.cu(14): error: identifier \"getDevice\" is undefined\n",
            "\n",
            "teste1.cu(14): error: identifier \"printShortCudaDeviceInfo\" is undefined\n",
            "\n",
            "teste1.cu(15): error: identifier \"getCudaEnabledDeviceCount\" is undefined\n",
            "\n",
            "teste1.cu(17): error: identifier \"DeviceInfo\" is undefined\n",
            "\n",
            "4 errors detected in the compilation of \"/tmp/tmpxft_00000125_00000000-8_teste1.cpp1.ii\".\n"
          ],
          "name": "stdout"
        }
      ]
    },
    {
      "cell_type": "code",
      "metadata": {
        "id": "RZe7tYJAfewl",
        "colab_type": "code",
        "colab": {
          "base_uri": "https://localhost:8080/",
          "height": 85
        },
        "outputId": "820d216b-eee7-4e77-92f8-f8a606a942fd"
      },
      "source": [
        "!nvcc teste1.cu -o teste1 -I /usr/local/include/opencv  -lm -lopencv_objdetect -lopencv_features2d -lopencv_imgproc -lopencv_highgui -lopencv_core -lopencv_imgcodecs "
      ],
      "execution_count": null,
      "outputs": [
        {
          "output_type": "stream",
          "text": [
            "\u001b[01m\u001b[Kteste1.cu:7:10:\u001b[m\u001b[K \u001b[01;31m\u001b[Kfatal error: \u001b[m\u001b[Kopencv2/cudaarithm.hpp: No such file or directory\n",
            " #include \u001b[01;31m\u001b[K<opencv2/cudaarithm.hpp>\u001b[m\u001b[K\n",
            "          \u001b[01;31m\u001b[K^~~~~~~~~~~~~~~~~~~~~~~~\u001b[m\u001b[K\n",
            "compilation terminated.\n"
          ],
          "name": "stdout"
        }
      ]
    },
    {
      "cell_type": "code",
      "metadata": {
        "id": "-bK8IjokmxvD",
        "colab_type": "code",
        "colab": {}
      },
      "source": [
        "!nvcc -o teste1 teste1.cu `pkg-config opencv --cflags --libs`  "
      ],
      "execution_count": null,
      "outputs": []
    },
    {
      "cell_type": "code",
      "metadata": {
        "id": "gmFV9moH5PfI",
        "colab_type": "code",
        "colab": {
          "base_uri": "https://localhost:8080/",
          "height": 85
        },
        "outputId": "92a96ee0-c3e1-455d-e904-efbb2228f402"
      },
      "source": [
        "!g++ `pkg-config opencv --cflags --libs` -o teste1 teste1.cpp"
      ],
      "execution_count": null,
      "outputs": [
        {
          "output_type": "stream",
          "text": [
            "\u001b[01m\u001b[Kteste1.cpp:7:10:\u001b[m\u001b[K \u001b[01;31m\u001b[Kfatal error: \u001b[m\u001b[Kopencv2/cudaarithm.hpp: No such file or directory\n",
            " #include \u001b[01;31m\u001b[K<opencv2/cudaarithm.hpp>\u001b[m\u001b[K\n",
            "          \u001b[01;31m\u001b[K^~~~~~~~~~~~~~~~~~~~~~~~\u001b[m\u001b[K\n",
            "compilation terminated.\n"
          ],
          "name": "stdout"
        }
      ]
    },
    {
      "cell_type": "code",
      "metadata": {
        "id": "qcWsanEWm7Bd",
        "colab_type": "code",
        "colab": {
          "base_uri": "https://localhost:8080/",
          "height": 105
        },
        "outputId": "83a10472-9cab-45a9-9626-72a17360c1ff"
      },
      "source": [
        "!./teste1"
      ],
      "execution_count": null,
      "outputs": [
        {
          "output_type": "stream",
          "text": [
            "OpenCV Error: No CUDA support (The library is compiled without CUDA support) in throw_no_cuda, file /build/opencv-L2vuMj/opencv-3.2.0+dfsg/modules/core/include/opencv2/core/private.cuda.hpp, line 97\n",
            "terminate called after throwing an instance of 'cv::Exception'\n",
            "  what():  /build/opencv-L2vuMj/opencv-3.2.0+dfsg/modules/core/include/opencv2/core/private.cuda.hpp:97: error: (-216) The library is compiled without CUDA support in function throw_no_cuda\n",
            "\n"
          ],
          "name": "stdout"
        }
      ]
    },
    {
      "cell_type": "code",
      "metadata": {
        "id": "9GtGGPQPlp9s",
        "colab_type": "code",
        "colab": {
          "base_uri": "https://localhost:8080/",
          "height": 34
        },
        "outputId": "475baae4-dede-4166-9034-4abcff192b6b"
      },
      "source": [
        "%%writefile para_victor.cu\n",
        "#include <iostream>\n",
        "#include <stdio.h>\n",
        "#include <cuda_runtime.h>\n",
        "#include <opencv2/opencv.hpp> \n",
        "#include <chrono>\n",
        "\n",
        "\n",
        "using namespace cv;\n",
        "using namespace std;\n",
        "\n",
        "// Para executar compile assim: \n",
        "// !nvcc para_victor.cu -o para_victor -I /usr/local/include/opencv  -lm -lopencv_objdetect -lopencv_features2d -lopencv_imgproc -lopencv_highgui -lopencv_core -lopencv_imgcodecs -run\n",
        "\n",
        "static inline void _safe_cuda_call(cudaError err, const char* msg, const char* file_name, const int line_number)\n",
        "{\n",
        "        if(err!=cudaSuccess)\n",
        "        {\n",
        "                fprintf(stderr,\"%s\\n\\nFile: %s\\n\\nLine Number: %d\\n\\nReason: %s\\n\",msg,file_name,line_number,cudaGetErrorString(err));\n",
        "                std::cin.get();\n",
        "                exit(EXIT_FAILURE);\n",
        "        }\n",
        "}\n",
        "#define SAFE_CALL(call,msg) _safe_cuda_call((call),(msg),__FILE__,__LINE__)\n",
        "\n",
        "\n",
        "__global__ void md_kernel(unsigned char* img, uchar* output, int width, int height, int N) {\n",
        "    \n",
        "    //Index of current thread\n",
        "    int tid = blockIdx.x * blockDim.x + threadIdx.x;\n",
        "    \n",
        "    if (tid >= width*height)\n",
        "    {\n",
        "        return;\n",
        "    }\n",
        "\n",
        "    //Stride by the total number of threads that have been launched\n",
        "    while( tid < N ) {\n",
        "        output[tid] = img[tid] + 20;\n",
        "        tid += blockDim.x * gridDim.x;\n",
        "    }\n",
        "}\n",
        "\n",
        "// The GPU wrapper function\n",
        "void md_gpu_wrapper(const cv::Mat& h_img, cv::Mat& h_output, float* fps_gpu, float* elapsedTimeGPU){\n",
        "    \n",
        "    \n",
        "    int deviceId;\n",
        "    int numberOfSMs;\n",
        "\n",
        "    cudaGetDevice(&deviceId);\n",
        "    cudaDeviceGetAttribute(&numberOfSMs, cudaDevAttrMultiProcessorCount, deviceId);\n",
        "    printf(\"Device ID: %d\\tNumber of SMs: %d\\n\", deviceId, numberOfSMs);\n",
        "\n",
        "    cudaDeviceProp props;\n",
        "    cudaGetDeviceProperties(&props, deviceId);\n",
        "  \n",
        "    int computeCapabilityMajor = props.major;\n",
        "    int computeCapabilityMinor = props.minor;\n",
        "    int multiProcessorCount = props.multiProcessorCount;\n",
        "    int warpSize = props.warpSize;\n",
        "    printf(\"Device ID: %d\\nNumber of SMs: %d\\nCompute Capability Major: %d\\nCompute Capability Minor: %d\\nWarp Size: %d\\n\", deviceId, multiProcessorCount, computeCapabilityMajor, computeCapabilityMinor, warpSize);\n",
        "       \n",
        "    \n",
        "    \n",
        "    //int height = h_img.rows;\n",
        "    //int width = h_img.cols;\n",
        "    \n",
        "    \n",
        "    //Calculate total number of bytes of input and output images\n",
        "        const int sizeBytes_input = h_img.step * h_img.rows;\n",
        "    const int sizeBytes_output = h_output.step * h_output.rows;\n",
        "\n",
        "    //Input and Output device variables\n",
        "        unsigned char *d_img;\n",
        "    uchar *d_output;\n",
        "    \n",
        "    //Measure executing time using cudaEvent\n",
        "    cudaEvent_t e_start, e_stop;\n",
        "    SAFE_CALL( cudaEventCreate(&e_start), \"CUDA Event Failed\" );\n",
        "    SAFE_CALL( cudaEventCreate(&e_stop), \"CUDA Event Failed\" );\n",
        "    SAFE_CALL( cudaEventRecord(e_start,0), \"CUDA Event Start Record Failed\" );\n",
        "    \n",
        "    //Measure Frame per Second (FPS)\n",
        "    int64 start = cv::getTickCount();\n",
        " \n",
        "    //Allocate device memory\n",
        "        SAFE_CALL(cudaMalloc<unsigned char>(&d_img,sizeBytes_input),\"CUDA Malloc Failed\");\n",
        "    SAFE_CALL(cudaMalloc<uchar>(&d_output,sizeBytes_output),\"CUDA Malloc Failed\");\n",
        "\n",
        "        //Copy data from OpenCV input image to device memory\n",
        "        SAFE_CALL(cudaMemcpy(d_img,h_img.ptr(),sizeBytes_input,cudaMemcpyHostToDevice),\"CUDA Memcpy Host To Device Failed\");\n",
        " \n",
        "        //Specify a reasonable block size\n",
        "        //const dim3 block(width/4.0f);\n",
        "        const dim3 block(256);\n",
        "\n",
        "        //Calculate grid size to cover the whole image\n",
        "        //const dim3 grid(4*height);\n",
        "    const dim3 grid(warpSize * numberOfSMs);\n",
        "\n",
        "    //Launch the kernel\n",
        "    md_kernel<<<grid,block>>>(d_img, d_output, h_img.cols, h_img.rows, sizeBytes_input);\n",
        "\n",
        "        //Synchronize to check for any kernel launch errors\n",
        "        SAFE_CALL(cudaDeviceSynchronize(),\"Kernel Launch Failed\");\n",
        "    \n",
        "    //Copy back data from destination device memory to OpenCV output image\n",
        "        SAFE_CALL(cudaMemcpy(h_output.ptr(),d_output,sizeBytes_output,cudaMemcpyDeviceToHost),\"CUDA Memcpy Device to Host Failed\");\n",
        "    \n",
        "    //FPS\n",
        "    *fps_gpu = cv::getTickFrequency() / (cv::getTickCount() - start);\n",
        "    \n",
        "    //Execution time\n",
        "    SAFE_CALL( cudaEventRecord(e_stop,0), \"CUDA Event Stop Record Failed\" );\n",
        "    SAFE_CALL( cudaEventSynchronize(e_stop), \"CUDA Event Synchronize Failed\" );\n",
        "    SAFE_CALL( cudaEventElapsedTime(elapsedTimeGPU, e_start, e_stop), \"CUDA cudaEventElapsedTime Failed\" ); //elapsedTimeGPU in milliseconds\n",
        "\n",
        "        //Free the device memory\n",
        "        SAFE_CALL(cudaFree(d_img),\"CUDA Free Failed\");\n",
        "        SAFE_CALL(cudaFree(d_output),\"CUDA Free Failed\");\n",
        "    SAFE_CALL(cudaEventDestroy(e_start), \"CUDA Event Destroy Failed\");\n",
        "    SAFE_CALL(cudaEventDestroy(e_stop), \"CUDA Event Destroy Failed\");    \n",
        "}\n",
        "\n",
        "//CPU calculation\n",
        "void md_cpu(const cv::Mat& img, cv::Mat& output_cpu, int width, int height){\n",
        "    for( int i = 0; i < height; i++){\n",
        "        for( int j = 0; j < width; j++){\n",
        "            output_cpu.at<uchar>(i,j) = img.at<uchar>(i,j) + 20;\n",
        "        }\n",
        "    }\n",
        "}\n",
        "\n",
        "// The CPU wrapper function\n",
        "void md_cpu_wrapper(const cv::Mat& img, cv::Mat& output_cpu, float* fps_cpu, float* elapsedTimeCPU){\n",
        "        \n",
        "    //Measure CPU time\n",
        "    auto begin = std::chrono::high_resolution_clock::now();\n",
        "\n",
        "    //Measure Frame per Second (FPS)\n",
        "    int64 start = cv::getTickCount();\n",
        "    \n",
        "    //call the cpu calculation method\n",
        "    md_cpu(img, output_cpu, img.cols, img.rows); \n",
        "    \n",
        "    //FPS\n",
        "    *fps_cpu = cv::getTickFrequency() / (cv::getTickCount() - start);\n",
        "    \n",
        "    //Execution Time\n",
        "    auto end = std::chrono::high_resolution_clock::now();\n",
        "    auto fs = std::chrono::duration<float>(end - begin);\n",
        "    *elapsedTimeCPU = fs.count() * 1000; // in milliseconds\n",
        "}\n",
        "\n",
        "\n",
        "//Main function\n",
        "int main()\n",
        "{\n",
        "        //Read the image from the disk\n",
        "        cv::Mat img = cv::imread(\"image.jpg\",0);\n",
        "     \n",
        "\n",
        "        if(img.empty())\n",
        "        {\n",
        "                std::cout<<\"Image Not Found!\"<<std::endl;\n",
        "                std::cin.get();\n",
        "                return -1;\n",
        "        }\n",
        "    \n",
        "        //Create the output image for GPU\n",
        "        cv::Mat output_gpu(img.rows,img.cols,CV_8UC1,Scalar(0));\n",
        " \n",
        "        // **** Call the GPU wrapper function\n",
        "    float elapsedTimeGPU;\n",
        "    float fps_gpu;\n",
        "        md_gpu_wrapper(img, output_gpu, &fps_gpu, &elapsedTimeGPU);\n",
        "\n",
        "    //Create the output image for CPU\n",
        "        cv::Mat output_cpu(img.rows,img.cols,CV_8UC1,Scalar(0));\n",
        "\n",
        "    // **** Call the CPU wrapper function\n",
        "    float elapsedTimeCPU;\n",
        "    float fps_cpu;\n",
        "    md_cpu_wrapper(img, output_cpu, &fps_cpu, &elapsedTimeCPU);\n",
        "       \n",
        "    // **** Print Results\n",
        "    std::cout << \"FPS GPU: \" << fps_gpu << std::endl;\n",
        "    std::cout << \"Time GPU: \" << elapsedTimeGPU / 1000 <<\" s\" << std::endl; //print in seconds\n",
        "    std::cout << \"FPS CPU: \" << fps_cpu << std::endl;\n",
        "    std::cout << \"Time CPU: \" << elapsedTimeCPU / 1000 <<\" s\" << std::endl; //print in seconds\n",
        "\n",
        "    //Speedup evaluation\n",
        "    float speedup = elapsedTimeCPU / elapsedTimeGPU;\n",
        "    std::cout<< \"Speedup: \" << speedup << std::endl;\n",
        "       \n",
        "    imwrite(\"output.png\", output_gpu);\n",
        "\n",
        "        return 0;\n",
        "}"
      ],
      "execution_count": null,
      "outputs": [
        {
          "output_type": "stream",
          "text": [
            "Writing para_victor.cu\n"
          ],
          "name": "stdout"
        }
      ]
    },
    {
      "cell_type": "code",
      "metadata": {
        "id": "ogevnu9sltpY",
        "colab_type": "code",
        "colab": {
          "base_uri": "https://localhost:8080/",
          "height": 204
        },
        "outputId": "6db082c7-6198-427f-94e0-72baff5d6f44"
      },
      "source": [
        "!nvcc para_victor.cu -o para_victor -I /usr/local/include/opencv  `pkg-config opencv --cflags --libs`   -run"
      ],
      "execution_count": null,
      "outputs": [
        {
          "output_type": "stream",
          "text": [
            "Device ID: 0\tNumber of SMs: 40\n",
            "Device ID: 0\n",
            "Number of SMs: 40\n",
            "Compute Capability Major: 7\n",
            "Compute Capability Minor: 5\n",
            "Warp Size: 32\n",
            "FPS GPU: 2768.8\n",
            "Time GPU: 0.000363712 s\n",
            "FPS CPU: 593.108\n",
            "Time CPU: 0.00168641 s\n",
            "Speedup: 4.63665\n"
          ],
          "name": "stdout"
        }
      ]
    },
    {
      "cell_type": "code",
      "metadata": {
        "id": "Tt-gYIy0hL60",
        "colab_type": "code",
        "colab": {
          "base_uri": "https://localhost:8080/",
          "height": 105
        },
        "outputId": "a08d97fa-4bef-4cba-9d10-ace4230aea89"
      },
      "source": [
        "%%cu\n",
        "#include \"opencv2/imgproc.hpp\"\n",
        "#include \"opencv2/imgcodecs.hpp\"\n",
        "#include \"opencv2/highgui.hpp\"\n",
        "#include <iostream>\n",
        "using namespace cv;\n",
        "using namespace std;\n",
        "int main( int argc, char** argv )\n",
        "{\n",
        "  cv::CommandLineParser parser(argc, argv,\n",
        "                               \"{@input   |lena.jpg|input image}\"\n",
        "                               \"{ksize   k|1|ksize (hit 'K' to increase its value at run time)}\"\n",
        "                               \"{scale   s|1|scale (hit 'S' to increase its value at run time)}\"\n",
        "                               \"{delta   d|0|delta (hit 'D' to increase its value at run time)}\"\n",
        "                               \"{help    h|false|show help message}\");\n",
        "  cout << \"The sample uses Sobel or Scharr OpenCV functions for edge detection\\n\\n\";\n",
        "  parser.printMessage();\n",
        "  cout << \"\\nPress 'ESC' to exit program.\\nPress 'R' to reset values ( ksize will be -1 equal to Scharr function )\";\n",
        "  // First we declare the variables we are going to use\n",
        "  Mat image,src, src_gray;\n",
        "  Mat grad;\n",
        "  const String window_name = \"Sobel Demo - Simple Edge Detector\";\n",
        "  int ksize = parser.get<int>(\"ksize\");\n",
        "  int scale = parser.get<int>(\"scale\");\n",
        "  int delta = parser.get<int>(\"delta\");\n",
        "  int ddepth = CV_16S;\n",
        "  String imageName = parser.get<String>(\"@input\");\n",
        "  // As usual we load our source image (src)\n",
        "  image = imread( samples::findFile( imageName ), IMREAD_COLOR ); // Load an image\n",
        "  // Check if image is loaded fine\n",
        "  if( image.empty() )\n",
        "  {\n",
        "    printf(\"Error opening image: %s\\n\", imageName.c_str());\n",
        "    return EXIT_FAILURE;\n",
        "  }\n",
        "  for (;;)\n",
        "  {\n",
        "    // Remove noise by blurring with a Gaussian filter ( kernel size = 3 )\n",
        "    GaussianBlur(image, src, Size(3, 3), 0, 0, BORDER_DEFAULT);\n",
        "    // Convert the image to grayscale\n",
        "    cvtColor(src, src_gray, COLOR_BGR2GRAY);\n",
        "    Mat grad_x, grad_y;\n",
        "    Mat abs_grad_x, abs_grad_y;\n",
        "    Sobel(src_gray, grad_x, ddepth, 1, 0, ksize, scale, delta, BORDER_DEFAULT);\n",
        "    Sobel(src_gray, grad_y, ddepth, 0, 1, ksize, scale, delta, BORDER_DEFAULT);\n",
        "    // converting back to CV_8U\n",
        "    convertScaleAbs(grad_x, abs_grad_x);\n",
        "    convertScaleAbs(grad_y, abs_grad_y);\n",
        "    addWeighted(abs_grad_x, 0.5, abs_grad_y, 0.5, 0, grad);\n",
        "    imshow(window_name, grad);\n",
        "    char key = (char)waitKey(0);\n",
        "    if(key == 27)\n",
        "    {\n",
        "      return EXIT_SUCCESS;\n",
        "    }\n",
        "    if (key == 'k' || key == 'K')\n",
        "    {\n",
        "      ksize = ksize < 30 ? ksize+2 : -1;\n",
        "    }\n",
        "    if (key == 's' || key == 'S')\n",
        "    {\n",
        "      scale++;\n",
        "    }\n",
        "    if (key == 'd' || key == 'D')\n",
        "    {\n",
        "      delta++;\n",
        "    }\n",
        "    if (key == 'r' || key == 'R')\n",
        "    {\n",
        "      scale =  1;\n",
        "      ksize = -1;\n",
        "      delta =  0;\n",
        "    }\n",
        "  }\n",
        "  return EXIT_SUCCESS;\n",
        "}"
      ],
      "execution_count": null,
      "outputs": [
        {
          "output_type": "stream",
          "text": [
            "/tmp/tmpl0u5dlb9/28c1307f-5854-4947-8ad1-5ac07c804f63.cu(28): error: name followed by \"::\" must be a class or namespace name\n",
            "\n",
            "1 error detected in the compilation of \"/tmp/tmpxft_000000cc_00000000-8_28c1307f-5854-4947-8ad1-5ac07c804f63.cpp1.ii\".\n",
            "\n"
          ],
          "name": "stdout"
        }
      ]
    },
    {
      "cell_type": "markdown",
      "metadata": {
        "id": "BHfNRQhI55w4",
        "colab_type": "text"
      },
      "source": [
        "Tentar configurar a máquina para rodar OpenCV\n"
      ]
    },
    {
      "cell_type": "code",
      "metadata": {
        "id": "4mgO7l5X-I_t",
        "colab_type": "code",
        "colab": {
          "base_uri": "https://localhost:8080/",
          "height": 102
        },
        "outputId": "d75523dc-4312-4409-8dd8-5d4913e15149"
      },
      "source": [
        "!gcc --version"
      ],
      "execution_count": null,
      "outputs": [
        {
          "output_type": "stream",
          "text": [
            "gcc (Ubuntu 7.5.0-3ubuntu1~18.04) 7.5.0\n",
            "Copyright (C) 2017 Free Software Foundation, Inc.\n",
            "This is free software; see the source for copying conditions.  There is NO\n",
            "warranty; not even for MERCHANTABILITY or FITNESS FOR A PARTICULAR PURPOSE.\n",
            "\n"
          ],
          "name": "stdout"
        }
      ]
    },
    {
      "cell_type": "code",
      "metadata": {
        "id": "uEFAdlXu8rry",
        "colab_type": "code",
        "colab": {
          "base_uri": "https://localhost:8080/",
          "height": 34
        },
        "outputId": "4dc01693-4faf-4599-a575-f32dc1ac9bbe"
      },
      "source": [
        "% cd .."
      ],
      "execution_count": null,
      "outputs": [
        {
          "output_type": "stream",
          "text": [
            "/content/opencv-4.2.0\n"
          ],
          "name": "stdout"
        }
      ]
    },
    {
      "cell_type": "code",
      "metadata": {
        "id": "ggrlWyuE_SqI",
        "colab_type": "code",
        "colab": {
          "base_uri": "https://localhost:8080/",
          "height": 34
        },
        "outputId": "ced4cc7b-d76e-4c7b-ccfa-5ac489363dd8"
      },
      "source": [
        "!pwd"
      ],
      "execution_count": null,
      "outputs": [
        {
          "output_type": "stream",
          "text": [
            "/content\n"
          ],
          "name": "stdout"
        }
      ]
    },
    {
      "cell_type": "markdown",
      "metadata": {
        "id": "f75oUdAGypoZ",
        "colab_type": "text"
      },
      "source": [
        "#Teste instalar OpenCV com cuda ON"
      ]
    },
    {
      "cell_type": "code",
      "metadata": {
        "id": "j0zj9CoZyn0w",
        "colab_type": "code",
        "colab": {}
      },
      "source": [
        "% cd ~\n",
        "! wget -O opencv.zip https://github.com/opencv/opencv/archive/4.2.0.zip\n",
        "! wget -O opencv_contrib.zip https://github.com/opencv/opencv_contrib/archive/4.2.0.zip\n",
        "! unzip opencv.zip\n",
        "! unzip opencv_contrib.zip\n",
        "\n",
        "! echo \"Procced with the installation\"\n",
        "% cd opencv-4.2.0\n",
        "! mkdir build\n",
        "% cd build\n",
        "\n",
        "! cmake -D CMAKE_BUILD_TYPE=RELEASE \\\n",
        "\t-D CMAKE_C_COMPILER=/usr/bin/gcc-7 \\\n",
        "-D CMAKE_INSTALL_PREFIX=/usr/local \\\n",
        "-D INSTALL_PYTHON_EXAMPLES=OFF \\\n",
        "-D INSTALL_C_EXAMPLES=ON \\\n",
        "-D WITH_TBB=ON \\\n",
        "-D WITH_CUDA=ON \\\n",
        "-D BUILD_opencv_cudacodec=ON \\\n",
        "-D ENABLE_FAST_MATH=1 \\\n",
        "-D CUDA_FAST_MATH=1 \\\n",
        "-D WITH_CUBLAS=1 \\\n",
        "-D WITH_V4L=ON \\\n",
        "-D WITH_QT=OFF \\\n",
        "-D WITH_OPENGL=ON \\\n",
        "-D WITH_OPENCL=ON \\\n",
        "-D WITH_GSTREAMER=ON \\\n",
        "-D OPENCV_GENERATE_PKGCONFIG=ON \\\n",
        "-D OPENCV_PC_FILE_NAME=opencv.pc \\\n",
        "-D OPENCV_ENABLE_NONFREE=ON \\\n",
        "-D OPENCV_EXTRA_MODULES_PATH=~/opencv_contrib-4.2.0/modules \\\n",
        "-D BUILD_EXAMPLES=ON .."
      ],
      "execution_count": null,
      "outputs": []
    },
    {
      "cell_type": "code",
      "metadata": {
        "id": "hSUXFw0-0qd0",
        "colab_type": "code",
        "colab": {
          "base_uri": "https://localhost:8080/",
          "height": 34
        },
        "outputId": "aec62dee-573c-420d-ffe5-26c5f84c7c5d"
      },
      "source": [
        "!pwd"
      ],
      "execution_count": null,
      "outputs": [
        {
          "output_type": "stream",
          "text": [
            "/root/opencv-4.2.0/build\n"
          ],
          "name": "stdout"
        }
      ]
    },
    {
      "cell_type": "code",
      "metadata": {
        "id": "i6YFlb78y_9h",
        "colab_type": "code",
        "colab": {
          "base_uri": "https://localhost:8080/",
          "height": 34
        },
        "outputId": "89a53661-fa9a-40c5-fc07-318a0503bbdf"
      },
      "source": [
        "! sudo make install"
      ],
      "execution_count": null,
      "outputs": [
        {
          "output_type": "stream",
          "text": [
            "make: *** No rule to make target 'install'.  Stop.\n"
          ],
          "name": "stdout"
        }
      ]
    },
    {
      "cell_type": "markdown",
      "metadata": {
        "id": "DA8givmtv1sy",
        "colab_type": "text"
      },
      "source": [
        "#TesteOpenCL (Deu certo)"
      ]
    },
    {
      "cell_type": "markdown",
      "metadata": {
        "id": "p0gsF-gv1jUu",
        "colab_type": "text"
      },
      "source": [
        "Obs: lembrar de colocar o \"\\\\n\" se não dá erro. Código retirado de: https://gist.github.com/jirihnidek/3f23b7451c1744d71dbf\n"
      ]
    },
    {
      "cell_type": "code",
      "metadata": {
        "id": "oxaG1BxKu0mq",
        "colab_type": "code",
        "colab": {}
      },
      "source": [
        "testeopencl= \"\"\"\n",
        "#define __CL_ENABLE_EXCEPTIONS\n",
        "\n",
        "#if defined(__APPLE__) || defined(__MACOSX)\n",
        "#include <OpenCL/cl.hpp>\n",
        "#else\n",
        "#include <CL/cl.hpp>\n",
        "#endif\n",
        "#include <cstdio>\n",
        "#include <cstdlib>\n",
        "#include <iostream>\n",
        "#include <vector>\n",
        "\n",
        "const char * helloStr  = \"__kernel void \"\n",
        "\t\t\"hello(void) \"\n",
        "\t\t\"{ \"\n",
        "\t\t\"  \"\n",
        "\t\t\"} \";\n",
        "\n",
        "int main(void)\n",
        "{\n",
        "\tcl_int err = CL_SUCCESS;\n",
        "\ttry {\n",
        "\n",
        "\t\tstd::vector<cl::Platform> platforms;\n",
        "\t\tcl::Platform::get(&platforms);\n",
        "\t\tif (platforms.size() == 0) {\n",
        "\t\t\tstd::cout << \"Platform size 0\\\\n\";\n",
        "\t\t\treturn -1;\n",
        "\t\t}\n",
        "\n",
        "\t\t// Print number of platforms and list of platforms\n",
        "\t\tstd::cout << \"Platform number is: \" << platforms.size() << std::endl;\n",
        "\t\tstd::string platformVendor;\n",
        "\t\tfor (unsigned int i = 0; i < platforms.size(); ++i) {\n",
        "\t\t\tplatforms[i].getInfo((cl_platform_info)CL_PLATFORM_VENDOR, &platformVendor);\n",
        "\t\t\tstd::cout << \"Platform is by: \" << platformVendor << std::endl;\n",
        "\t\t}\n",
        "\n",
        "\t\tcl_context_properties properties[] =\n",
        "\t\t{\n",
        "\t\t\t\tCL_CONTEXT_PLATFORM,\n",
        "\t\t\t\t(cl_context_properties)(platforms[0])(),\n",
        "\t\t\t\t0\n",
        "\t\t};\n",
        "\t\tcl::Context context(CL_DEVICE_TYPE_ALL, properties);\n",
        "\n",
        "\t\tstd::vector<cl::Device> devices = context.getInfo<CL_CONTEXT_DEVICES>();\n",
        "\n",
        "\t\t// Print number of devices and list of devices\n",
        "\t\tstd::cout << \"Device number is: \" << devices.size() << std::endl;\n",
        "\t\tfor (unsigned int i = 0; i < devices.size(); ++i) {\n",
        "\t\t\tstd::cout << \"Device #\" << i << \": \" << devices[i].getInfo<CL_DEVICE_NAME>() << std::endl;\n",
        "\t\t}\n",
        "\n",
        "\t\tcl::Program::Sources source(1,\n",
        "\t\t\t\tstd::make_pair(helloStr, strlen(helloStr)));\n",
        "\t\tcl::Program program_ = cl::Program(context, source);\n",
        "\t\tprogram_.build(devices);\n",
        "\n",
        "\t\tcl::Kernel kernel(program_, \"hello\", &err);\n",
        "\n",
        "\t\tcl::Event event;\n",
        "\t\tcl::CommandQueue queue(context, devices[0], 0, &err);\n",
        "\t\tqueue.enqueueNDRangeKernel(\n",
        "\t\t\t\tkernel,\n",
        "\t\t\t\tcl::NullRange,\n",
        "\t\t\t\tcl::NDRange(4,4),\n",
        "\t\t\t\tcl::NullRange,\n",
        "\t\t\t\tNULL,\n",
        "\t\t\t\t&event);\n",
        "\n",
        "\t\tevent.wait();\n",
        "\t}\n",
        "\tcatch (cl::Error err) {\n",
        "\t\tstd::cerr\n",
        "\t\t<< \"ERROR: \"\n",
        "\t\t<< err.what()\n",
        "\t\t<< \"(\"\n",
        "\t\t<< err.err()\n",
        "\t\t<< \")\"\n",
        "\t\t<< std::endl;\n",
        "\t}\n",
        "\n",
        "\treturn EXIT_SUCCESS;\n",
        "\n",
        "}\n",
        " \"\"\""
      ],
      "execution_count": null,
      "outputs": []
    },
    {
      "cell_type": "code",
      "metadata": {
        "id": "npfSx4gBvuMv",
        "colab_type": "code",
        "colab": {}
      },
      "source": [
        "text_file = open(\"testeopencl.cpp\", \"w\")\n",
        "text_file.write(testeopencl)\n",
        "text_file.close()"
      ],
      "execution_count": null,
      "outputs": []
    },
    {
      "cell_type": "code",
      "metadata": {
        "id": "Iy34Nfc2xsrc",
        "colab_type": "code",
        "colab": {
          "base_uri": "https://localhost:8080/",
          "height": 102
        },
        "outputId": "7140a20c-dd0a-4961-b440-4fdd3a949dfe"
      },
      "source": [
        "!find / -iname cl.h 2>/dev/null"
      ],
      "execution_count": null,
      "outputs": [
        {
          "output_type": "stream",
          "text": [
            "/usr/include/CL/cl.h\n",
            "/usr/local/lib/python3.6/dist-packages/pystan/stan/lib/stan_math/lib/opencl_1.2.8/CL/cl.h\n",
            "/usr/local/lib/python2.7/dist-packages/pystan/stan/lib/stan_math/lib/opencl_1.2.8/CL/cl.h\n",
            "/usr/local/cuda-10.0/targets/x86_64-linux/include/CL/cl.h\n",
            "/usr/local/cuda-10.1/targets/x86_64-linux/include/CL/cl.h\n"
          ],
          "name": "stdout"
        }
      ]
    },
    {
      "cell_type": "code",
      "metadata": {
        "id": "juW2RDp7x-VF",
        "colab_type": "code",
        "colab": {
          "base_uri": "https://localhost:8080/",
          "height": 105
        },
        "outputId": "361e2926-ef50-4a44-8244-a6080884cb7c"
      },
      "source": [
        "!g++ -I/usr/local/cuda-10.1/targets/x86_64-linux/include testeopencl.cpp -lOpenCL"
      ],
      "execution_count": null,
      "outputs": [
        {
          "output_type": "stream",
          "text": [
            "In file included from \u001b[01m\u001b[Ktesteopencl.cpp:7:0\u001b[m\u001b[K:\n",
            "\u001b[01m\u001b[K/usr/local/cuda-10.1/targets/x86_64-linux/include/CL/cl.hpp:5085:28:\u001b[m\u001b[K \u001b[01;35m\u001b[Kwarning: \u001b[m\u001b[Kignoring attributes on template argument ‘\u001b[01m\u001b[Kcl_int {aka int}\u001b[m\u001b[K’ [\u001b[01;35m\u001b[K-Wignored-attributes\u001b[m\u001b[K]\n",
            "         VECTOR_CLASS<cl_int\u001b[01;35m\u001b[K>\u001b[m\u001b[K* binaryStatus = NULL,\n",
            "                            \u001b[01;35m\u001b[K^\u001b[m\u001b[K\n"
          ],
          "name": "stdout"
        }
      ]
    },
    {
      "cell_type": "code",
      "metadata": {
        "id": "VswqiTnE1Ms7",
        "colab_type": "code",
        "colab": {
          "base_uri": "https://localhost:8080/",
          "height": 85
        },
        "outputId": "45f7d7bb-0311-44f7-ae08-2e11efa9eeb0"
      },
      "source": [
        "!./a.out"
      ],
      "execution_count": null,
      "outputs": [
        {
          "output_type": "stream",
          "text": [
            "Platform number is: 1\n",
            "Platform is by: NVIDIA Corporation\u0000\n",
            "Device number is: 1\n",
            "Device #0: Tesla T4\u0000\n"
          ],
          "name": "stdout"
        }
      ]
    },
    {
      "cell_type": "markdown",
      "metadata": {
        "id": "TO-mRGfD4DgH",
        "colab_type": "text"
      },
      "source": [
        "#Teste OpenCV (Deu certo) lembrar de upar a image.jpg"
      ]
    },
    {
      "cell_type": "code",
      "metadata": {
        "id": "j0hCLaJH1QCV",
        "colab_type": "code",
        "colab": {}
      },
      "source": [
        ""
      ],
      "execution_count": null,
      "outputs": []
    },
    {
      "cell_type": "code",
      "metadata": {
        "id": "8Y-uP-NK38mO",
        "colab_type": "code",
        "colab": {}
      },
      "source": [
        "testeopencv = \"\"\"\n",
        "#include <opencv2/imgproc/imgproc.hpp>\n",
        "#include <opencv2/highgui/highgui.hpp>\n",
        "#include <opencv2/core/core.hpp>\n",
        "#include <opencv2/core/ocl.hpp>\n",
        "#include <iostream>\n",
        "using namespace cv;\n",
        "using namespace std;\n",
        "\n",
        "\n",
        "string imagePath=\"image.jpg\";\n",
        "\n",
        "int TestOpenCL(int nbTest);\n",
        "\n",
        "\n",
        "int main(int argc, char **argv)\n",
        "{\n",
        "    if (!cv::ocl::haveOpenCL())\n",
        "    {\n",
        "        cout << \"OpenCL is not avaiable...\" << endl;\n",
        "        return 0;\n",
        "    }\n",
        "    cv::ocl::Context context;\n",
        "    std::vector<cv::ocl::PlatformInfo> platforms;\n",
        "    cv::ocl::getPlatfomsInfo(platforms);\n",
        "\n",
        "    //OpenCL Platforms\n",
        "    for (size_t i = 0; i < platforms.size(); i++)\n",
        "    {\n",
        "        //Access to Platform\n",
        "        const cv::ocl::PlatformInfo* platform = &platforms[i];\n",
        "\n",
        "        //Platform Name\n",
        "        std::cout << \"Platform Name: \" << platform->name().c_str() << \"\\\\n\";\n",
        "\n",
        "        //Access Device within Platform\n",
        "        cv::ocl::Device current_device;\n",
        "        for (int j = 0; j < platform->deviceNumber(); j++)\n",
        "        {\n",
        "            //Access Device\n",
        "            platform->getDevice(current_device, j);\n",
        "            \n",
        "            //Device Type\n",
        "            int deviceType = current_device.type();\n",
        "            switch (deviceType) {\n",
        "            case (1 << 1):\n",
        "                cout<<\" CPU device\\\\n\";\n",
        "                break;\n",
        "            case (1 << 2) :\n",
        "                cout << \" GPU device\\\\n\";\n",
        "                \n",
        "                if (context.create(deviceType))\n",
        "                    TestOpenCL(50);\n",
        "                break;\n",
        "\n",
        "            }\n",
        "         cout << context.ndevices() << \" GPU devices are detected.\" << std::endl; \n",
        "           \n",
        "            cout<< deviceType <<\"\\\\n\";\n",
        "        }\n",
        "    }\n",
        "    return 0;\n",
        "}\n",
        "\n",
        "\n",
        "int TestOpenCL(int nbTest)\n",
        "{\n",
        "\n",
        "    cout << \"Without opencl umat \\\\t with opencl umat\\\\t with opencl mat \\\\t without opencl mat for cvtColor(0),Blur(1),Canny(2)\\\\n\";\n",
        "    cout << \"getNumberOfCPUs =\" << getNumberOfCPUs() << \"\\\\t getNumThreads = \" << getNumThreads() << \"\\\\n\";\n",
        "    Mat image = imread(imagePath.c_str(), CV_LOAD_IMAGE_UNCHANGED);\n",
        "    double totalTime = 0;\n",
        "    UMat uimage;\n",
        "    imread(imagePath.c_str(), CV_LOAD_IMAGE_UNCHANGED).copyTo(uimage);\n",
        "    vector<double> tps;\n",
        "    \n",
        "    TickMeter myChrono;\n",
        "    double m,v;\n",
        "    // ********************** CVTCOLOR ************\n",
        "    {\n",
        "        // 1 UMAT ocl false\n",
        "        ocl::setUseOpenCL(false);\n",
        "        cout << \"cvtColor = \";\n",
        "        tps.clear();\n",
        "        tps.resize(nbTest);\n",
        "        UMat ugray;\n",
        "        for (int nTest = 0; nTest<nbTest; nTest++)\n",
        "        {\n",
        "            myChrono.reset();\n",
        "            myChrono.start();\n",
        "            cvtColor(uimage, ugray, COLOR_BGR2GRAY);\n",
        "            myChrono.stop();\n",
        "            tps[nTest] = myChrono.getTimeMilli();\n",
        "        }\n",
        "        m=0;v=0;\n",
        "        for (int nTest = 0; nTest<nbTest; nTest++)\n",
        "            m+= tps[nTest];\n",
        "        m /= nbTest;\n",
        "        for (int nTest = 0; nTest<nbTest; nTest++)\n",
        "            v += pow(m-tps[nTest],2.0);\n",
        "        v /= nbTest;\n",
        "        cout<<\"(\"<<m<<\" +/-\"<<sqrt(v)<<\")\";\n",
        "        if (!cv::ocl::useOpenCL())\n",
        "            cout << \"false\\\\t\\\\t\" ;\n",
        "        else\n",
        "            cout << \"true\\\\t\\\\t\";\n",
        "\n",
        "    }\n",
        "\n",
        "    {\n",
        "        // 2 UMAT ocl true\n",
        "        ocl::setUseOpenCL(true);\n",
        "        tps.clear();\n",
        "        tps.resize(nbTest);\n",
        "        UMat ugray;\n",
        "        for (int nTest = 0; nTest<nbTest; nTest++)\n",
        "        {\n",
        "            myChrono.reset();\n",
        "            myChrono.start();\n",
        "            cvtColor(uimage, ugray, COLOR_BGR2GRAY);\n",
        "            myChrono.stop();\n",
        "            tps[nTest]=myChrono.getTimeMilli();\n",
        "        }\n",
        "        m = 0; v = 0;\n",
        "        for (int nTest = 0; nTest<nbTest; nTest++)\n",
        "            m += tps[nTest];\n",
        "        m /= nbTest;\n",
        "        for (int nTest = 0; nTest<nbTest; nTest++)\n",
        "            v += pow(m - tps[nTest], 2.0);\n",
        "        v /= nbTest;\n",
        "        cout << \"(\" << m << \" +/-\" << sqrt(v) << \")\";\n",
        "        if (!cv::ocl::useOpenCL())\n",
        "            cout << \"false\\\\t\\\\t\";\n",
        "        else\n",
        "            cout << \"true\\\\t\\\\t\";\n",
        "    }\n",
        "\n",
        "    // 3 MAT ocl false\n",
        "    {\n",
        "        ocl::setUseOpenCL(false);\n",
        "        tps.clear();\n",
        "        tps.resize(nbTest);\n",
        "        Mat gray;\n",
        "        for (int nTest = 0; nTest<nbTest; nTest++)\n",
        "        {\n",
        "            myChrono.reset();\n",
        "            myChrono.start();\n",
        "            cvtColor(image, gray, COLOR_BGR2GRAY);\n",
        "            myChrono.stop();\n",
        "            tps[nTest] = myChrono.getTimeMilli();\n",
        "        }\n",
        "        m = 0; v = 0;\n",
        "        for (int nTest = 0; nTest<nbTest; nTest++)\n",
        "            m += tps[nTest];\n",
        "        m /= nbTest;\n",
        "        for (int nTest = 0; nTest<nbTest; nTest++)\n",
        "            v += pow(m - tps[nTest], 2.0);\n",
        "        v /= nbTest;\n",
        "        cout << \"(\" << m << \" +/-\" << sqrt(v) << \")\";\n",
        "        if (!cv::ocl::useOpenCL())\n",
        "            cout << \"false\\\\t\\\\t\";\n",
        "        else\n",
        "            cout << \"true\\\\t\\\\t\";\n",
        "\n",
        "    }\n",
        "    {\n",
        "        // 4 MAT ocl true\n",
        "        ocl::setUseOpenCL(true);\n",
        "        tps.clear();\n",
        "        tps.resize(nbTest);\n",
        "        Mat gray;\n",
        "        for (int nTest = 0; nTest<nbTest; nTest++)\n",
        "        {\n",
        "            myChrono.reset();\n",
        "            myChrono.start();\n",
        "            cvtColor(image, gray, COLOR_BGR2GRAY);\n",
        "            myChrono.stop();\n",
        "            tps[nTest] = myChrono.getTimeMilli();\n",
        "        }\n",
        "        m = 0; v = 0;\n",
        "        for (int nTest = 0; nTest<nbTest; nTest++)\n",
        "            m += tps[nTest];\n",
        "        m /= nbTest;\n",
        "        for (int nTest = 0; nTest<nbTest; nTest++)\n",
        "            v += pow(m - tps[nTest], 2.0);\n",
        "        v /= nbTest;\n",
        "        cout << \"(\" << m << \" +/-\" << sqrt(v) << \"\";\n",
        "        if (!cv::ocl::useOpenCL())\n",
        "            cout << \"false\\\\t\\\\t\";\n",
        "        else\n",
        "            cout << \"true\\\\t\\\\t\";\n",
        "        cout<<\"\\\\n\";\n",
        "    }\n",
        "    Size tailleBlur(101, 101);\n",
        "\n",
        "    // ********************** GAUSSIANBLUR ************\n",
        "    {\n",
        "        // 1 UMAT ocl false\n",
        "        cout << \"gaussianblur = \";\n",
        "        ocl::setUseOpenCL(false);\n",
        "        tps.clear();\n",
        "        tps.resize(nbTest);\n",
        "        UMat ugray, ugrayres;\n",
        "        cvtColor(uimage, ugray, COLOR_BGR2GRAY);\n",
        "        for (int nTest = 0; nTest<nbTest; nTest++)\n",
        "        {\n",
        "            myChrono.reset();\n",
        "            myChrono.start();\n",
        "            GaussianBlur(ugray, ugrayres, tailleBlur, 1.5);\n",
        "            myChrono.stop();\n",
        "            tps[nTest] = myChrono.getTimeMilli();\n",
        "        }\n",
        "        m = 0; v = 0;\n",
        "        for (int nTest = 0; nTest<nbTest; nTest++)\n",
        "            m += tps[nTest];\n",
        "        m /= nbTest;\n",
        "        for (int nTest = 0; nTest<nbTest; nTest++)\n",
        "            v += pow(m - tps[nTest], 2.0);\n",
        "        v /= nbTest;\n",
        "        cout << \"(\" << m << \" +/-\" << sqrt(v) << \")\";\n",
        "        if (!cv::ocl::useOpenCL())\n",
        "            cout << \"false\\\\t\\\\t\";\n",
        "        else\n",
        "            cout << \"true\\\\t\\\\t\";    \n",
        "    }\n",
        "    {\n",
        "        // 2 UMAT ocl true\n",
        "        ocl::setUseOpenCL(true);\n",
        "        tps.clear();\n",
        "        tps.resize(nbTest);\n",
        "        UMat ugray, ugrayres;\n",
        "        cvtColor(uimage, ugray, COLOR_BGR2GRAY);\n",
        "        for (int nTest = 0; nTest<nbTest; nTest++)\n",
        "        {\n",
        "            myChrono.reset();\n",
        "            myChrono.start();\n",
        "            GaussianBlur(ugray, ugrayres, tailleBlur, 1.5);\n",
        "            myChrono.stop();\n",
        "            tps[nTest] = myChrono.getTimeMilli();\n",
        "        }\n",
        "        m = 0; v = 0;\n",
        "        for (int nTest = 0; nTest<nbTest; nTest++)\n",
        "            m += tps[nTest];\n",
        "        m /= nbTest;\n",
        "        for (int nTest = 0; nTest<nbTest; nTest++)\n",
        "            v += pow(m - tps[nTest], 2.0);\n",
        "        v /= nbTest;\n",
        "        cout << \"(\" << m << \" +/-\" << sqrt(v) << \")\";\n",
        "        if (!cv::ocl::useOpenCL())\n",
        "            cout << \"false\\\\t\\\\t\";\n",
        "        else\n",
        "            cout << \"true\\\\t\\\\t\";\n",
        "    }\n",
        "    {\n",
        "        // 3 MAT ocl false\n",
        "        ocl::setUseOpenCL(false);\n",
        "        tps.clear();\n",
        "        tps.resize(nbTest);\n",
        "        Mat gray,grayres;\n",
        "        cvtColor(image, gray, COLOR_BGR2GRAY);\n",
        "        for (int nTest = 0; nTest<nbTest; nTest++)\n",
        "        {\n",
        "            myChrono.reset();\n",
        "            myChrono.start();\n",
        "            GaussianBlur(gray, grayres, tailleBlur, 1.5);\n",
        "            myChrono.stop();\n",
        "            tps[nTest] = myChrono.getTimeMilli();\n",
        "        }\n",
        "        m = 0; v = 0;\n",
        "        for (int nTest = 0; nTest<nbTest; nTest++)\n",
        "            m += tps[nTest];\n",
        "        m /= nbTest;\n",
        "        for (int nTest = 0; nTest<nbTest; nTest++)\n",
        "            v += pow(m - tps[nTest], 2.0);\n",
        "        v /= nbTest;\n",
        "        cout << \"(\" << m << \" +/-\" << sqrt(v) << \")\";\n",
        "        if (!cv::ocl::useOpenCL())\n",
        "            cout << \"false\\\\t\\\\t\";\n",
        "        else\n",
        "            cout << \"true\\\\t\\\\t\";\n",
        "    }\n",
        "    {\n",
        "        // 4 MAT ocl true\n",
        "        ocl::setUseOpenCL(true);\n",
        "        tps.clear();\n",
        "        tps.resize(nbTest);\n",
        "        Mat gray, grayres;\n",
        "        cvtColor(image, gray, COLOR_BGR2GRAY);\n",
        "        for (int nTest = 0; nTest<nbTest; nTest++)\n",
        "        {\n",
        "            myChrono.reset();\n",
        "            myChrono.start();\n",
        "            GaussianBlur(gray, grayres, tailleBlur, 1.5);\n",
        "            myChrono.stop();\n",
        "            tps[nTest] = myChrono.getTimeMilli();\n",
        "        }\n",
        "        m = 0; v = 0;\n",
        "        for (int nTest = 0; nTest<nbTest; nTest++)\n",
        "            m += tps[nTest];\n",
        "        m /= nbTest;\n",
        "        for (int nTest = 0; nTest<nbTest; nTest++)\n",
        "            v += pow(m - tps[nTest], 2.0);\n",
        "        v /= nbTest;\n",
        "        cout << \"(\" << m << \" +/-\" << sqrt(v) << \")\";\n",
        "        if (!cv::ocl::useOpenCL())\n",
        "            cout << \"false\\\\t\\\\t\";\n",
        "        else\n",
        "            cout << \"true\\\\t\\\\t\";\n",
        "        cout<< \"\\\\n\";\n",
        "    }\n",
        "    // ********************** CANNY ************\n",
        "    // 1 UMAT ocl false\n",
        "    cout << \"Canny = \";\n",
        "    {\n",
        "        ocl::setUseOpenCL(false);\n",
        "        tps.clear();\n",
        "        tps.resize(nbTest);\n",
        "        UMat ugray, ugrayres;\n",
        "        cvtColor(uimage, ugray, COLOR_BGR2GRAY);\n",
        "        for (int nTest = 0; nTest<nbTest; nTest++)\n",
        "        {\n",
        "            myChrono.reset();\n",
        "            myChrono.start();\n",
        "            Canny(ugray, ugrayres, 0, 50);\n",
        "            myChrono.stop();\n",
        "            tps[nTest] = myChrono.getTimeMilli();\n",
        "        }\n",
        "        m = 0; v = 0;\n",
        "        for (int nTest = 0; nTest<nbTest; nTest++)\n",
        "            m += tps[nTest];\n",
        "        m /= nbTest;\n",
        "        for (int nTest = 0; nTest<nbTest; nTest++)\n",
        "            v += pow(m - tps[nTest], 2.0);\n",
        "        v /= nbTest;\n",
        "        cout << \"(\" << m << \" +/-\" << sqrt(v) << \")\";\n",
        "        if (!cv::ocl::useOpenCL())\n",
        "            cout << \"false\\\\t\\\\t\";\n",
        "        else\n",
        "            cout << \"true\\\\t\\\\t\";\n",
        "    }\n",
        "    // 2 UMAT ocl true\n",
        "    {\n",
        "        ocl::setUseOpenCL(true);\n",
        "        tps.clear();\n",
        "        tps.resize(nbTest);\n",
        "        UMat ugray,ugrayres;\n",
        "        cvtColor(uimage, ugray, COLOR_BGR2GRAY);\n",
        "        for (int nTest = 0; nTest<nbTest; nTest++)\n",
        "        {\n",
        "            myChrono.reset();\n",
        "            myChrono.start();\n",
        "            Canny(ugray, ugrayres, 0, 50);\n",
        "            myChrono.stop();\n",
        "            tps[nTest] = myChrono.getTimeMilli();\n",
        "        }\n",
        "        m = 0; v = 0;\n",
        "        for (int nTest = 0; nTest<nbTest; nTest++)\n",
        "            m += tps[nTest];\n",
        "        m /= nbTest;\n",
        "        for (int nTest = 0; nTest<nbTest; nTest++)\n",
        "            v += pow(m - tps[nTest], 2.0);\n",
        "        v /= nbTest;\n",
        "        cout << \"(\" << m << \" +/-\" << sqrt(v) << \")\";\n",
        "        if (!cv::ocl::useOpenCL())\n",
        "            cout << \"false\\\\t\\\\t\";\n",
        "        else\n",
        "            cout << \"true\\\\t\\\\t\";\n",
        "    }\n",
        "    // 3 MAT ocl false\n",
        "    {\n",
        "        ocl::setUseOpenCL(false);\n",
        "        tps.clear();\n",
        "        tps.resize(nbTest);\n",
        "        Mat gray,grayres;\n",
        "        cvtColor(image, gray, COLOR_BGR2GRAY);\n",
        "        for (int nTest = 0; nTest<nbTest; nTest++)\n",
        "        {\n",
        "            myChrono.reset();\n",
        "            myChrono.start();\n",
        "            Canny(gray, grayres, 0, 50);\n",
        "            myChrono.stop();\n",
        "            tps[nTest] = myChrono.getTimeMilli();\n",
        "        }\n",
        "        m = 0; v = 0;\n",
        "        for (int nTest = 0; nTest<nbTest; nTest++)\n",
        "            m += tps[nTest];\n",
        "        m /= nbTest;\n",
        "        for (int nTest = 0; nTest<nbTest; nTest++)\n",
        "            v += pow(m - tps[nTest], 2.0);\n",
        "        v /= nbTest;\n",
        "        cout << \"(\" << m << \" +/-\" << sqrt(v) << \")\";\n",
        "        if (!cv::ocl::useOpenCL())\n",
        "            cout << \"false\\\\t\\\\t\";\n",
        "        else\n",
        "            cout << \"true\\\\t\\\\t\";\n",
        "    }\n",
        "    // 4 MAT ocl true\n",
        "    {\n",
        "        ocl::setUseOpenCL(true);\n",
        "        tps.clear();\n",
        "        tps.resize(nbTest);\n",
        "        Mat gray,grayres;\n",
        "        cvtColor(image, gray, COLOR_BGR2GRAY);\n",
        "        for (int nTest = 0; nTest<nbTest; nTest++)\n",
        "        {\n",
        "            myChrono.reset();\n",
        "            myChrono.start();\n",
        "            Canny(gray, grayres, 0, 50);\n",
        "            myChrono.stop();\n",
        "            tps[nTest] = myChrono.getTimeMilli();\n",
        "        }\n",
        "        m = 0; v = 0;\n",
        "        for (int nTest = 0; nTest<nbTest; nTest++)\n",
        "            m += tps[nTest];\n",
        "        m /= nbTest;\n",
        "        for (int nTest = 0; nTest<nbTest; nTest++)\n",
        "            v += pow(m - tps[nTest], 2.0);\n",
        "        v /= nbTest;\n",
        "        cout << \"(\" << m << \" +/-\" << sqrt(v) << \")\";\n",
        "        if (!cv::ocl::useOpenCL())\n",
        "            cout << \"false\\\\t\\\\t\";\n",
        "        else\n",
        "            cout << \"true\\\\t\\\\t\";\n",
        "        cout << \"\\\\n\";\n",
        "\n",
        "    }\n",
        "    return 0;\n",
        " }\n",
        " \"\"\"\n"
      ],
      "execution_count": null,
      "outputs": []
    },
    {
      "cell_type": "code",
      "metadata": {
        "id": "_eQy0Uvt4vJS",
        "colab_type": "code",
        "colab": {}
      },
      "source": [
        "text_file = open(\"testeopencv.cpp\", \"w\")\n",
        "text_file.write(testeopencv)\n",
        "text_file.close()"
      ],
      "execution_count": null,
      "outputs": []
    },
    {
      "cell_type": "code",
      "metadata": {
        "id": "ZAR76hc14wph",
        "colab_type": "code",
        "colab": {}
      },
      "source": [
        "!g++ testeopencv.cpp -o testeopencv `pkg-config --cflags --libs opencv`"
      ],
      "execution_count": null,
      "outputs": []
    },
    {
      "cell_type": "code",
      "metadata": {
        "id": "rj7KMY0m5dI0",
        "colab_type": "code",
        "colab": {
          "base_uri": "https://localhost:8080/",
          "height": 190
        },
        "outputId": "e7485d20-c72d-481b-ec3d-9231246d09d5"
      },
      "source": [
        "!./testeopencv"
      ],
      "execution_count": null,
      "outputs": [
        {
          "output_type": "stream",
          "text": [
            "Platform Name: NVIDIA CUDA\n",
            " GPU device\n",
            "Without opencl umat \t with opencl umat\t with opencl mat \t without opencl mat for cvtColor(0),Blur(1),Canny(2)\n",
            "getNumberOfCPUs =2\t getNumThreads = 2\n",
            "cvtColor = (0.780975 +/-0.252583)false\t\t(12.7726 +/-89.1479)true\t\t(0.312821 +/-0.042967)false\t\t(0.342176 +/-0.0555436true\t\t\n",
            "gaussianblur = (8.18844 +/-2.20369)false\t\t(6.12594 +/-39.8588)true\t\t(7.90665 +/-0.953195)false\t\t(7.97908 +/-1.09913)true\t\t\n",
            "Canny = (4.58844 +/-2.83435)false\t\t(7.74792 +/-51.8376)true\t\t(3.88534 +/-0.0987675)false\t\t(3.80571 +/-0.0738044)true\t\t\n",
            "1 GPU devices are detected.\n",
            "4\n"
          ],
          "name": "stdout"
        }
      ]
    },
    {
      "cell_type": "code",
      "metadata": {
        "id": "-rHfC8FF5gNC",
        "colab_type": "code",
        "colab": {}
      },
      "source": [
        ""
      ],
      "execution_count": null,
      "outputs": []
    },
    {
      "cell_type": "markdown",
      "metadata": {
        "id": "54jaAji21xcQ",
        "colab_type": "text"
      },
      "source": [
        "#teste edge detection"
      ]
    },
    {
      "cell_type": "markdown",
      "metadata": {
        "id": "9d7mVTwO7Mvq",
        "colab_type": "text"
      },
      "source": [
        "Código retirado de: https://answers.opencv.org/question/110726/sobel-edge-detection-implementation/"
      ]
    },
    {
      "cell_type": "code",
      "metadata": {
        "id": "8jj-nVil10fp",
        "colab_type": "code",
        "colab": {}
      },
      "source": [
        "edge = \"\"\"\n",
        "#include <iostream>\n",
        "#include <bits/stdc++.h>\n",
        "#include \"opencv2/core/core.hpp\"\n",
        "#include \"opencv2/highgui/highgui.hpp\"\n",
        "#include \"opencv2/opencv.hpp\"\n",
        "#include \"opencv2/imgproc/imgproc.hpp\" \n",
        "#include <opencv2/objdetect/objdetect.hpp>\n",
        "#include <math.h>\n",
        "#include <opencv2/core/utility.hpp>\n",
        "\n",
        "using namespace cv; \n",
        "using namespace std; \n",
        "\n",
        "int main()\n",
        "{\n",
        "// Reading image\n",
        "Mat img = imread(\"image.jpg\");\n",
        "\n",
        "\n",
        "// Blurring and Converting to grayscale\n",
        "Mat img_gray,image_blur;\n",
        "GaussianBlur( img, image_blur, Size(5,5), 3, 3);\n",
        "    cvtColor(image_blur,img_gray,CV_RGB2GRAY);\n",
        "\n",
        "int cols = img_gray.cols;\n",
        "int rows = img_gray.rows;\n",
        "\n",
        "// Creating sobel operator in x direction\n",
        "int sobel_x[3][3] = {-1,0,1,-2,0,2,-1,0,1};\n",
        "// Creating sobel operator in y direction\n",
        "int sobel_y[3][3] = {-1,-2,-1,0,0,0,1,2,1};\n",
        "\n",
        "\n",
        "int radius = 1;\n",
        "\n",
        "// Handle border issues\n",
        "Mat _src;\n",
        "copyMakeBorder(img_gray, _src, radius, radius, radius, radius, BORDER_REFLECT101);\n",
        "\n",
        "// Create output matrix\n",
        "Mat gradient_x = img_gray.clone();\n",
        "Mat gradient_y = img_gray.clone();\n",
        "Mat gradient_f = img_gray.clone();\n",
        "\n",
        "int max=0;\n",
        "\n",
        "// Correlation loop in x direction \n",
        "\n",
        "// Iterate on image \n",
        "for (int r = radius; r < _src.rows - radius; ++r)\n",
        "{\n",
        "    for (int c = radius; c < _src.cols - radius; ++c)\n",
        "    {\n",
        "        int s = 0;\n",
        "\n",
        "        // Iterate on kernel\n",
        "        for (int i = -radius; i <= radius; ++i)\n",
        "        {\n",
        "            for (int j = -radius; j <= radius; ++j)\n",
        "            {\n",
        "                s += _src.at<uchar>(r + i, c + j) * sobel_x[i + radius][j + radius];\n",
        "            }\n",
        "        }\n",
        "        gradient_x.at<uchar>(r - radius, c - radius) = s/30;\n",
        "\n",
        "        /*if(s>200)\n",
        "            gradient.at<uchar>(r - radius, c - radius) = 255;\n",
        "        else\n",
        "            gradient.at<uchar>(r - radius, c - radius) = 0;\n",
        "        */    \n",
        "    }\n",
        "}\n",
        "\n",
        "\n",
        "// Conrrelation loop in y direction \n",
        "\n",
        "// Iterate on image \n",
        "for (int r = radius; r < _src.rows - radius; ++r)\n",
        "{\n",
        "    for (int c = radius; c < _src.cols - radius; ++c)\n",
        "    {\n",
        "        int s = 0;\n",
        "\n",
        "        // Iterate on kernel\n",
        "        for (int i = -radius; i <= radius; ++i)\n",
        "        {\n",
        "            for (int j = -radius; j <= radius; ++j)\n",
        "            {\n",
        "                s += _src.at<uchar>(r + i, c + j) * sobel_y[i + radius][j + radius];\n",
        "            }\n",
        "        }\n",
        "\n",
        "        gradient_y.at<uchar>(r - radius, c - radius) = s/30;\n",
        "\n",
        "        /*if(s>200)\n",
        "            gradient.at<uchar>(r - radius, c - radius) = 255;\n",
        "        else\n",
        "            gradient.at<uchar>(r - radius, c - radius) = 0;\n",
        "        */    \n",
        "    }\n",
        "}\n",
        "\n",
        "\n",
        "\n",
        "\n",
        "//Calculating gradient magnitude\n",
        "for(int i=0; i<gradient_f.rows; i++)\n",
        "{\n",
        "    for(int j=0; j<gradient_f.cols; j++)\n",
        "    {\n",
        "        gradient_f.at<uchar>(i,j) = sqrt( pow(gradient_x.at<uchar>(i,j),2) + pow(gradient_y.at<uchar>(i,j),2) );  \n",
        "\n",
        "         if(gradient_f.at<uchar>(i,j) >240)\n",
        "            gradient_f.at<uchar>(i,j) = 100;\n",
        "        else\n",
        "            gradient_f.at<uchar>(i,j) = 0;\n",
        "    }\n",
        "}\n",
        "\n",
        "\n",
        "\n",
        "imwrite(\"gradiente.jpg\", gradient_f);\n",
        "//imshow(\"grad magnitude\",gradient_f);\n",
        "//waitKey(0);\n",
        "\n",
        "\n",
        "\n",
        "\n",
        "cv::Mat Gx, Gy; int ksize=3;\n",
        "Mat abs_grad_x, abs_grad_y;\n",
        "cv::Sobel(img_gray, Gx, CV_8U, 1, 0, ksize);\n",
        "convertScaleAbs( Gx, abs_grad_x );\n",
        "cv::Sobel(img_gray, Gy, CV_8U, 0, 1, ksize);\n",
        "convertScaleAbs( Gy, abs_grad_y );\n",
        "Mat grad;\n",
        "addWeighted( abs_grad_x, 0.5, abs_grad_y, 0.5, 0, grad );\n",
        "\n",
        "\n",
        "imwrite(\"sobel.jpg\", grad);\n",
        "//imshow(\"Sobel Image\",grad);\n",
        "//waitKey(0);\n",
        "\n",
        "return 0;\n",
        "\n",
        "}\n",
        "\"\"\""
      ],
      "execution_count": null,
      "outputs": []
    },
    {
      "cell_type": "code",
      "metadata": {
        "id": "SCfgAouV19c4",
        "colab_type": "code",
        "colab": {}
      },
      "source": [
        "text_file = open(\"edge.cpp\", \"w\")\n",
        "text_file.write(edge)\n",
        "text_file.close()"
      ],
      "execution_count": null,
      "outputs": []
    },
    {
      "cell_type": "code",
      "metadata": {
        "id": "9Vz3SBtZ2C_R",
        "colab_type": "code",
        "colab": {}
      },
      "source": [
        "!g++ edge.cpp -o edge `pkg-config --cflags --libs opencv`"
      ],
      "execution_count": null,
      "outputs": []
    },
    {
      "cell_type": "code",
      "metadata": {
        "id": "4h_GrAkl2GVY",
        "colab_type": "code",
        "colab": {}
      },
      "source": [
        "!./edge"
      ],
      "execution_count": null,
      "outputs": []
    },
    {
      "cell_type": "code",
      "metadata": {
        "id": "ntdsoviP4FGR",
        "colab_type": "code",
        "colab": {
          "base_uri": "https://localhost:8080/",
          "height": 539
        },
        "outputId": "07cd82a6-ddfd-491f-a60b-b8fec92f0a34"
      },
      "source": [
        "%matplotlib inline\n",
        "\n",
        "import matplotlib\n",
        "import matplotlib.image as mpimg\n",
        "import matplotlib.pyplot as plt\n",
        "\n",
        "sobel = mpimg.imread('sobel.jpg')\n",
        "imagem_inicial = mpimg.imread('image.jpg')\n",
        "#gradiente = mpimg.imread('gradiente.jpg')\n",
        "\n",
        "\n",
        "print(\" Imagem inicial \")\n",
        "plt.imshow(imagem_inicial)\n",
        "plt.show()\n",
        "\n",
        "# print(\" Imagem Gradiente \")\n",
        "# plt.imshow(gradiente)\n",
        "# plt.show()\n",
        "\n",
        "print(\" Após detecção de bordas \")\n",
        "plt.imshow(sobel)\n",
        "plt.show()\n",
        "\n"
      ],
      "execution_count": null,
      "outputs": [
        {
          "output_type": "stream",
          "text": [
            " Imagem inicial \n"
          ],
          "name": "stdout"
        },
        {
          "output_type": "display_data",
          "data": {
            "image/png": "[encoded data removed]",
            "text/plain": [
              "<Figure size 432x288 with 1 Axes>"
            ]
          },
          "metadata": {
            "tags": [],
            "needs_background": "light"
          }
        },
        {
          "output_type": "stream",
          "text": [
            " Após detecção de bordas \n"
          ],
          "name": "stdout"
        },
        {
          "output_type": "display_data",
          "data": {
            "image/png": "[encoded data removed]",
            "text/plain": [
              "<Figure size 432x288 with 1 Axes>"
            ]
          },
          "metadata": {
            "tags": [],
            "needs_background": "light"
          }
        }
      ]
    },
    {
      "cell_type": "code",
      "metadata": {
        "id": "EhQK7pHm4Ws8",
        "colab_type": "code",
        "colab": {}
      },
      "source": [
        "\n",
        "#include <opencv2/core/utility.hpp>\n",
        "\n",
        "double t0, t1, time;\n",
        "\n",
        "t0 = (double)getTickCount();\n",
        "# your code execution\n",
        "t1 = (double)getTickCount();\n",
        "//The time will be in seconds\n",
        "time = (t0-t1)/getTickFrequency()"
      ],
      "execution_count": null,
      "outputs": []
    },
    {
      "cell_type": "markdown",
      "metadata": {
        "id": "UbUY8Rjq_Vfk",
        "colab_type": "text"
      },
      "source": [
        "#Exemplo contabilizando o tempo de execução e salvando em arquivo"
      ]
    },
    {
      "cell_type": "markdown",
      "metadata": {
        "id": "u50JiVde_Vbq",
        "colab_type": "text"
      },
      "source": [
        ""
      ]
    },
    {
      "cell_type": "markdown",
      "metadata": {
        "id": "W8gVB2PS8tQU",
        "colab_type": "text"
      },
      "source": [
        "Código retirado de: https://docs.opencv.org/3.2.0/d2/d2c/tutorial_sobel_derivatives.html"
      ]
    },
    {
      "cell_type": "code",
      "metadata": {
        "id": "KaBFUzOK8LjN",
        "colab_type": "code",
        "colab": {}
      },
      "source": [
        "test1 = \"\"\"\n",
        "#include \"opencv2/imgproc.hpp\"\n",
        "#include \"opencv2/imgcodecs.hpp\"\n",
        "#include \"opencv2/highgui.hpp\"\n",
        "#include <opencv2/core/utility.hpp>\n",
        "#include <CL/cl.h>\n",
        "#define LOGI  printf\n",
        "using namespace cv;\n",
        "int main( int, char** argv )\n",
        "{\n",
        "  Mat src, src_gray;\n",
        "  Mat grad;\n",
        "\n",
        "  int scale = 1;\n",
        "  int delta = 0;\n",
        "  int ddepth = CV_16S;\n",
        " \n",
        "  int64 time;\n",
        "  \n",
        "  src = imread(\"image.jpg\");   \n",
        "\n",
        "  if( src.empty() )\n",
        "    { return -1; }\n",
        " \n",
        "  time = getTickCount();\n",
        "\n",
        "  //Remove noise  \n",
        "  GaussianBlur( src, src, Size(3,3), 0, 0, BORDER_DEFAULT );\n",
        " \n",
        "  //Convert to gray\n",
        "  cvtColor( src, src_gray, COLOR_BGR2GRAY );\n",
        " \n",
        "  Mat grad_x, grad_y;\n",
        "  Mat abs_grad_x, abs_grad_y;\n",
        " \n",
        "  //Scharr( src_gray, grad_x, ddepth, 1, 0, scale, delta, BORDER_DEFAULT );\n",
        "  Sobel( src_gray, grad_x, ddepth, 1, 0, 3, scale, delta, BORDER_DEFAULT );\n",
        "  \n",
        "  //Scharr( src_gray, grad_y, ddepth, 0, 1, scale, delta, BORDER_DEFAULT ); \n",
        "  Sobel( src_gray, grad_y, ddepth, 0, 1, 3, scale, delta, BORDER_DEFAULT );\n",
        "  convertScaleAbs( grad_x, abs_grad_x );\n",
        "  convertScaleAbs( grad_y, abs_grad_y );\n",
        "  addWeighted( abs_grad_x, 0.5, abs_grad_y, 0.5, 0, grad );\n",
        " \n",
        "  imwrite(\"sobel.jpg\", grad);\n",
        " \n",
        "  time = getTickCount() - time;\n",
        "  printf( \"detection time = %g ms\\\\n\", time*1000/getTickFrequency());  \n",
        " \n",
        "  //Writing results on file for latter processing\n",
        "  FILE * pFile;\n",
        "  pFile = fopen(\"ExecutionTime.txt\", \"a\"); \n",
        "  fprintf(pFile, \" %g\", time*1000/getTickFrequency());\n",
        "  fclose(pFile);\n",
        "\n",
        "//   char *driver_version;\n",
        "//   clGetDeviceInfo(0, CL_DRIVER_VERSION, sizeof(char*), &driver_version, NULL);\n",
        "//   printf(\"OpenCL version: %s\\\\n\", driver_version);\n",
        "\n",
        "\n",
        "// cl_uint nplatforms;\n",
        "// cl_int err;\n",
        "// //check_error(err, \"clGetPlatformIds\");\n",
        "//     cl_device_id device_id = NULL;\n",
        "//     cl_uint ret_num_devices;\n",
        "//     // Now ask OpenCL for the platform IDs:\n",
        "//     cl_platform_id* platforms = (cl_platform_id*)malloc(sizeof(cl_platform_id)* nplatforms);\n",
        "\n",
        "\n",
        "//     if(platforms == NULL){\n",
        "//         printf(\"\\\\n Fail to allocate memory for platforms\");\n",
        "//     }\n",
        "\n",
        "\n",
        "//    err = clGetPlatformIDs(nplatforms, platforms, NULL);\n",
        "//    printf(\"OpenCL version: %d\\\\n, %d\", err, nplatforms);\n",
        "\n",
        "  //imshow( window_name, grad );\n",
        "  //waitKey(0);\n",
        "\n",
        "//------------------------------------------------------------------------------------\n",
        "  cl_uint i_plat;\n",
        "    cl_int err;\n",
        "\n",
        "    // Discover the number of platforms:\n",
        "    cl_uint nplatforms;\n",
        "    err = clGetPlatformIDs(0, NULL, &nplatforms);\n",
        "\n",
        "    LOGI(\"\\\\n Number of Platform %d: error = %d \", nplatforms, err );\n",
        "\n",
        "    //check_error(err, \"clGetPlatformIds\");\n",
        "    cl_device_id device_id = NULL;\n",
        "    cl_uint ret_num_devices;\n",
        "    // Now ask OpenCL for the platform IDs:\n",
        "    cl_platform_id* platforms = (cl_platform_id*)malloc(sizeof(cl_platform_id)* nplatforms);\n",
        "\n",
        "\n",
        "    if(platforms == NULL){\n",
        "        printf(\"\\\\n Fail to allocate memory for platforms\");\n",
        "    }\n",
        "\n",
        "\n",
        "    err = clGetPlatformIDs(nplatforms, platforms, NULL);\n",
        "    LOGI(\"\\\\n clGetPlatformIDs return error = %d \", err );\n",
        "\n",
        "    //check_error(err, \"clGetPlatformIds\");\n",
        "\n",
        "    // Ask OpenCL about each platform to understand the problem:\n",
        "    char name[128];\n",
        "    char vendor[128];\n",
        "    char version[128];\n",
        "    char driver[128];\n",
        "    cl_uint val = 0;\n",
        "    size_t val1 = 0;\n",
        "    size_t val2 = 0;\n",
        "    size_t prof_tmr_res = 0;\n",
        "    cl_uint MaxComputeUnit = 0;\n",
        "    cl_uint MaxClockFrequency = 0;\n",
        "\n",
        "    cl_device_type deviceType;\n",
        "\n",
        "    cl_device_exec_capabilities exec_capabilities;\n",
        "\n",
        "    //LOGI(ANDROID_LOG_INFO,\"POOJA\",\"AKVEDIAHE\");\n",
        "\n",
        "    for (i_plat = 0; i_plat < nplatforms; i_plat++) {\n",
        "        err |= clGetPlatformInfo(platforms[i_plat], CL_PLATFORM_VENDOR, 128, vendor, NULL);\n",
        "        err |= clGetPlatformInfo(platforms[i_plat], CL_PLATFORM_NAME, 128, name, NULL);\n",
        "        err |= clGetPlatformInfo(platforms[i_plat], CL_PLATFORM_VERSION, 128, version, NULL);\n",
        "        //check_error(err, \"clGetPlatformInfo\");\n",
        "\n",
        "        LOGI(\"\\\\n Platform Info %d: Vendor = %s Name = %s Version = %s  Error = %d\", i_plat, vendor, name, version,err);\n",
        "\n",
        "        /*device info*/\n",
        "        //err = clGetDeviceIDs(platforms[i_plat], CL_DEVICE_TYPE_GPU, 1, &device_id, &ret_num_devices);\n",
        "        err = clGetDeviceIDs(platforms[i_plat], CL_DEVICE_TYPE_GPU, 1, &device_id, NULL);\n",
        "\n",
        "        LOGI(\"\\\\n clGetDeviceIDs GPU  Error %d \",err );\n",
        "\n",
        "        err |= clGetDeviceInfo(device_id, CL_DEVICE_TYPE,sizeof(cl_int), &deviceType, NULL);\n",
        "        err |= clGetDeviceInfo(device_id, CL_DEVICE_VENDOR, 128, vendor, NULL);\n",
        "        err |= clGetDeviceInfo(device_id, CL_DEVICE_NAME, 128, name, NULL);\n",
        "        err |= clGetDeviceInfo(device_id, CL_DEVICE_VERSION, 128, version, NULL);\n",
        "        err |= clGetDeviceInfo(device_id, CL_DRIVER_VERSION, 128, driver, NULL);\n",
        "        err |= clGetDeviceInfo(device_id, CL_DEVICE_MAX_WORK_ITEM_DIMENSIONS, sizeof(cl_uint), &val, NULL);\n",
        "        err |= clGetDeviceInfo(device_id, CL_DEVICE_PROFILING_TIMER_RESOLUTION, sizeof(size_t), &prof_tmr_res, NULL);\n",
        "        err |= clGetDeviceInfo(device_id, CL_DEVICE_MAX_COMPUTE_UNITS, sizeof(cl_uint), &MaxComputeUnit, NULL);\n",
        "        err |= clGetDeviceInfo(device_id, CL_DEVICE_MAX_CLOCK_FREQUENCY, sizeof(cl_uint), &MaxClockFrequency, NULL);\n",
        "        err |= clGetDeviceInfo(device_id, CL_DEVICE_EXECUTION_CAPABILITIES,sizeof(cl_int), &exec_capabilities, NULL);\n",
        "\n",
        "        LOGI(\"\\\\n Device Type %08x:\",deviceType );\n",
        "        for(int i =0; i < val ; i++){\n",
        "            err = clGetDeviceInfo(device_id, CL_DEVICE_MAX_WORK_ITEM_SIZES, sizeof(size_t), &val1, NULL);\n",
        "            LOGI(\"\\\\n MAX_WORK_ITEM_SIZES[%d] = %d,\", i,val1 );\n",
        "        }\n",
        "        err = clGetDeviceInfo(device_id, CL_DEVICE_MAX_WORK_GROUP_SIZE, sizeof(size_t), &val2, NULL);\n",
        "\n",
        "        LOGI(\"\\\\n MAX_WORK_ITEM_DIMENSIONS = %d , MAX_WORK_GROUP_SIZE = %d \", val,val2 );\n",
        "        LOGI(\"\\\\n device_id FOR Platform = %d vender = %s, device name = %s, device version = %s, driver version = %s\", i_plat, vendor, name, version, driver);\n",
        "        LOGI(\"\\\\n CL_DEVICE_PROFILING_TIMER_RESOLUTION = %d\",prof_tmr_res );\n",
        "        LOGI(\"\\\\n Max Compute Unit = %d\",MaxComputeUnit );\n",
        "        LOGI(\"\\\\n Max Clock Frequency = %d\",MaxClockFrequency );\n",
        "        LOGI(\"\\\\n Device exec capabilities = %08x\",exec_capabilities );\n",
        "    }\n",
        "    return 0;\n",
        "\n",
        "\n",
        "}\n",
        "\"\"\""
      ],
      "execution_count": null,
      "outputs": []
    },
    {
      "cell_type": "code",
      "metadata": {
        "id": "Q-YHHIAl_Lq8",
        "colab_type": "code",
        "colab": {}
      },
      "source": [
        "text_file = open(\"test1.cpp\", \"w\")\n",
        "text_file.write(test1)\n",
        "text_file.close()"
      ],
      "execution_count": null,
      "outputs": []
    },
    {
      "cell_type": "code",
      "metadata": {
        "id": "ZQVWVkQD_Qdp",
        "colab_type": "code",
        "colab": {
          "base_uri": "https://localhost:8080/",
          "height": 309
        },
        "outputId": "913a3c2a-10a4-44c4-afd4-0c666de5d8f6"
      },
      "source": [
        "!g++ -I/usr/local/cuda-10.0/targets/x86_64-linux/include test1.cpp -o test1  `pkg-config --cflags --libs opencv` -lOpenCL"
      ],
      "execution_count": null,
      "outputs": [
        {
          "output_type": "stream",
          "text": [
            "\u001b[01m\u001b[Ktest1.cpp:\u001b[m\u001b[K In function ‘\u001b[01m\u001b[Kint main(int, char**)\u001b[m\u001b[K’:\n",
            "\u001b[01m\u001b[Ktest1.cpp:151:48:\u001b[m\u001b[K \u001b[01;35m\u001b[Kwarning: \u001b[m\u001b[Kformat ‘\u001b[01m\u001b[K%x\u001b[m\u001b[K’ expects argument of type ‘\u001b[01m\u001b[Kunsigned int\u001b[m\u001b[K’, but argument 2 has type ‘\u001b[01m\u001b[Kcl_device_type {aka long unsigned int}\u001b[m\u001b[K’ [\u001b[01;35m\u001b[K-Wformat=\u001b[m\u001b[K]\n",
            "         LOGI(\"\\n Device Type %08x:\",deviceType \u001b[01;35m\u001b[K)\u001b[m\u001b[K;\n",
            "                                                \u001b[01;35m\u001b[K^\u001b[m\u001b[K\n",
            "\u001b[01m\u001b[Ktest1.cpp:154:61:\u001b[m\u001b[K \u001b[01;35m\u001b[Kwarning: \u001b[m\u001b[Kformat ‘\u001b[01m\u001b[K%d\u001b[m\u001b[K’ expects argument of type ‘\u001b[01m\u001b[Kint\u001b[m\u001b[K’, but argument 3 has type ‘\u001b[01m\u001b[Ksize_t {aka long unsigned int}\u001b[m\u001b[K’ [\u001b[01;35m\u001b[K-Wformat=\u001b[m\u001b[K]\n",
            "             LOGI(\"\\n MAX_WORK_ITEM_SIZES[%d] = %d,\", i,val1 \u001b[01;35m\u001b[K)\u001b[m\u001b[K;\n",
            "                                                             \u001b[01;35m\u001b[K^\u001b[m\u001b[K\n",
            "\u001b[01m\u001b[Ktest1.cpp:158:87:\u001b[m\u001b[K \u001b[01;35m\u001b[Kwarning: \u001b[m\u001b[Kformat ‘\u001b[01m\u001b[K%d\u001b[m\u001b[K’ expects argument of type ‘\u001b[01m\u001b[Kint\u001b[m\u001b[K’, but argument 3 has type ‘\u001b[01m\u001b[Ksize_t {aka long unsigned int}\u001b[m\u001b[K’ [\u001b[01;35m\u001b[K-Wformat=\u001b[m\u001b[K]\n",
            "         LOGI(\"\\n MAX_WORK_ITEM_DIMENSIONS = %d , MAX_WORK_GROUP_SIZE = %d \", val,val2 \u001b[01;35m\u001b[K)\u001b[m\u001b[K;\n",
            "                                                                                       \u001b[01;35m\u001b[K^\u001b[m\u001b[K\n",
            "\u001b[01m\u001b[Ktest1.cpp:160:74:\u001b[m\u001b[K \u001b[01;35m\u001b[Kwarning: \u001b[m\u001b[Kformat ‘\u001b[01m\u001b[K%d\u001b[m\u001b[K’ expects argument of type ‘\u001b[01m\u001b[Kint\u001b[m\u001b[K’, but argument 2 has type ‘\u001b[01m\u001b[Ksize_t {aka long unsigned int}\u001b[m\u001b[K’ [\u001b[01;35m\u001b[K-Wformat=\u001b[m\u001b[K]\n",
            "         LOGI(\"\\n CL_DEVICE_PROFILING_TIMER_RESOLUTION = %d\",prof_tmr_res \u001b[01;35m\u001b[K)\u001b[m\u001b[K;\n",
            "                                                                          \u001b[01;35m\u001b[K^\u001b[m\u001b[K\n",
            "\u001b[01m\u001b[Ktest1.cpp:163:69:\u001b[m\u001b[K \u001b[01;35m\u001b[Kwarning: \u001b[m\u001b[Kformat ‘\u001b[01m\u001b[K%x\u001b[m\u001b[K’ expects argument of type ‘\u001b[01m\u001b[Kunsigned int\u001b[m\u001b[K’, but argument 2 has type ‘\u001b[01m\u001b[Kcl_device_exec_capabilities {aka long unsigned int}\u001b[m\u001b[K’ [\u001b[01;35m\u001b[K-Wformat=\u001b[m\u001b[K]\n",
            "         LOGI(\"\\n Device exec capabilities = %08x\",exec_capabilities \u001b[01;35m\u001b[K)\u001b[m\u001b[K;\n",
            "                                                                     \u001b[01;35m\u001b[K^\u001b[m\u001b[K\n"
          ],
          "name": "stdout"
        }
      ]
    },
    {
      "cell_type": "code",
      "metadata": {
        "id": "2XUpuMU2_Sya",
        "colab_type": "code",
        "colab": {
          "base_uri": "https://localhost:8080/",
          "height": 309
        },
        "outputId": "e310a782-6ad7-477f-a00a-ce2d5cfeb9d4"
      },
      "source": [
        "!./test1"
      ],
      "execution_count": null,
      "outputs": [
        {
          "output_type": "stream",
          "text": [
            "detection time = 178.354 ms\n",
            "\n",
            " Number of Platform 1: error = 0 \n",
            " clGetPlatformIDs return error = 0 \n",
            " Platform Info 0: Vendor = NVIDIA Corporation Name = NVIDIA CUDA Version = OpenCL 1.2 CUDA 10.1.152  Error = 0\n",
            " clGetDeviceIDs GPU  Error 0 \n",
            " Device Type 01010000:\n",
            " MAX_WORK_ITEM_SIZES[0] = 0,\n",
            " MAX_WORK_ITEM_SIZES[1] = 0,\n",
            " MAX_WORK_ITEM_SIZES[2] = 0,\n",
            " MAX_WORK_ITEM_DIMENSIONS = 3 , MAX_WORK_GROUP_SIZE = 1024 \n",
            " device_id FOR Platform = 0 vender = NVIDIA Corporation, device name = Tesla T4, device version = OpenCL 1.2 CUDA, driver version = 418.67\n",
            " CL_DEVICE_PROFILING_TIMER_RESOLUTION = 1000\n",
            " Max Compute Unit = 40\n",
            " Max Clock Frequency = 1590\n",
            " Device exec capabilities = 00000000"
          ],
          "name": "stdout"
        }
      ]
    },
    {
      "cell_type": "markdown",
      "metadata": {
        "id": "eVLqi9aPCNOs",
        "colab_type": "text"
      },
      "source": [
        "Criando um vetor para ler os resultados do arquivo. **OBS: OS RESULTADOS ESTÃO EM MILISEGUNDOS**"
      ]
    },
    {
      "cell_type": "code",
      "metadata": {
        "id": "5r6BVJLeAlSv",
        "colab_type": "code",
        "colab": {}
      },
      "source": [
        "results = []\n",
        "with open(\"ExecutionTime.txt\", \"r\") as file1:\n",
        "    for line in file1.readlines():\n",
        "        results = [float(i) for i in line.split(\" \") if i.strip()]"
      ],
      "execution_count": null,
      "outputs": []
    },
    {
      "cell_type": "code",
      "metadata": {
        "id": "24zbQaENApJ2",
        "colab_type": "code",
        "colab": {
          "base_uri": "https://localhost:8080/",
          "height": 34
        },
        "outputId": "bc3b87b0-9ba9-46e5-c30b-67ea65f3fddd"
      },
      "source": [
        "results"
      ],
      "execution_count": null,
      "outputs": [
        {
          "output_type": "execute_result",
          "data": {
            "text/plain": [
              "[114.241, 23.2606, 18.2154, 20.4622, 16.9441, 20.8176]"
            ]
          },
          "metadata": {
            "tags": []
          },
          "execution_count": 22
        }
      ]
    },
    {
      "cell_type": "code",
      "metadata": {
        "id": "bgfmqHW1Oujw",
        "colab_type": "code",
        "colab": {
          "base_uri": "https://localhost:8080/",
          "height": 34
        },
        "outputId": "ae350e86-0d1f-4200-85c6-1e1df337f323"
      },
      "source": [
        "!ldd /usr/local/lib/libopencv_core.so"
      ],
      "execution_count": null,
      "outputs": [
        {
          "output_type": "stream",
          "text": [
            "ldd: /usr/local/lib/libopencv_core.so: No such file or directory\n"
          ],
          "name": "stdout"
        }
      ]
    },
    {
      "cell_type": "markdown",
      "metadata": {
        "id": "y4EDqFS9Uzw9",
        "colab_type": "text"
      },
      "source": [
        "#Test custom OpenCL kernel in OpenCV "
      ]
    },
    {
      "cell_type": "code",
      "metadata": {
        "id": "ov6uY7lzVgtC",
        "colab_type": "code",
        "colab": {}
      },
      "source": [
        "def save_file(my_file, filename):\n",
        "    filename = filename + \".cpp\"\n",
        "    text_file = open(filename, \"w\")\n",
        "    text_file.write(my_file)\n",
        "    text_file.close()"
      ],
      "execution_count": null,
      "outputs": []
    },
    {
      "cell_type": "code",
      "metadata": {
        "id": "6Z2i9SQvOvuW",
        "colab_type": "code",
        "colab": {}
      },
      "source": [
        "test = \"\"\"\n",
        "#include <iostream>\n",
        "#include \"opencv2/imgproc.hpp\"\n",
        "#include \"opencv2/imgcodecs.hpp\"\n",
        "#include \"opencv2/highgui.hpp\"\n",
        "#include <opencv2/core/utility.hpp>\n",
        "#include <opencv2/core/ocl.hpp>\n",
        "\n",
        "#include <CL/cl.h>\n",
        "using namespace cv;\n",
        "int main(int _argc, const char** _argv)\n",
        "{\n",
        "    cv::ocl::DevicesInfo devInfo;\n",
        "    int res = cv::ocl::getOpenCLDevices(devInfo);\n",
        "    if(res == 0)\n",
        "    {\n",
        "        std::cout << \"There is no OPENCL Here !\" << std::endl;\n",
        "    }else\n",
        "    {\n",
        "        for(int i = 0 ; i < devInfo.size() ; ++i)\n",
        "        {\n",
        "            std::cout << \"Device : \" << devInfo[i]->deviceName << \" is present\" << std::endl;\n",
        "        }\n",
        "    }\n",
        "    cv::ocl::setDevice(devInfo[0]);        // select device to use\n",
        "    std::cout << VERSION_EPOCH << \".\" << VERSION_MAJOR << \".\" << VERSION_MINOR << std::endl;\n",
        "    const char *KernelSource = \"\\\\n\" \\\\\n",
        "    \"__kernel void square(                       \\\\n\" \\\\\n",
        "    \"   __global uchar* input,                   \\\\n\" \\\\\n",
        "    \"   __global uchar* output)                  \\\\n\" \\\\\n",
        "    \"{                                           \\\\n\" \\\\\n",
        "    \"   int i = get_global_id(0);                \\\\n\" \\\\\n",
        "    \"   output[i] = input[i] * input[i];         \\\\n\" \\\\\n",
        "    \"}\\\\n\";\n",
        "    cv::ocl::ProgramSource src(\"square\", KernelSource);\n",
        "    std::size_t globalThreads[3]={1,0,0};\n",
        "    std::size_t localThreads[3]={5,5,0};\n",
        "    cv::ocl::oclMat source(cv::Size(500,500), CV_8UC1);\n",
        "    cv::ocl::oclMat dest(cv::Size(500,500), CV_8UC1);\n",
        "\n",
        "    std::vector<std::pair<size_t , const void *> > args;\n",
        "    args.push_back( std::make_pair( 4, (void *) &source.data ));\n",
        "    args.push_back( std::make_pair( 4, (void *) &dest.data ));\n",
        "\n",
        "cv::ocl::openCLExecuteKernelInterop(cv::ocl::Context::getContext(), src, \"square\",\n",
        "                                     globalThreads, localThreads, args, -1, -1, \"\");\n",
        "    return 0;\n",
        "}\n",
        "\"\"\""
      ],
      "execution_count": null,
      "outputs": []
    },
    {
      "cell_type": "code",
      "metadata": {
        "id": "zMjfPdvVWIq0",
        "colab_type": "code",
        "colab": {}
      },
      "source": [
        "save_file(test, \"test\")"
      ],
      "execution_count": null,
      "outputs": []
    },
    {
      "cell_type": "code",
      "metadata": {
        "id": "6G_zrVMjV19r",
        "colab_type": "code",
        "colab": {
          "base_uri": "https://localhost:8080/",
          "height": 1000
        },
        "outputId": "579cc998-de43-4973-df65-d8f16cf65b34"
      },
      "source": [
        "!g++ -I/usr/local/cuda-10.1/targets/x86_64-linux/include test.cpp -o test  `pkg-config --cflags --libs opencv` -lOpenCL"
      ],
      "execution_count": null,
      "outputs": [
        {
          "output_type": "stream",
          "text": [
            "\u001b[01m\u001b[Ktest.cpp:\u001b[m\u001b[K In function ‘\u001b[01m\u001b[Kint main(int, const char**)\u001b[m\u001b[K’:\n",
            "\u001b[01m\u001b[Ktest.cpp:13:14:\u001b[m\u001b[K \u001b[01;31m\u001b[Kerror: \u001b[m\u001b[K‘\u001b[01m\u001b[KDevicesInfo\u001b[m\u001b[K’ is not a member of ‘\u001b[01m\u001b[Kcv::ocl\u001b[m\u001b[K’\n",
            "     cv::ocl::\u001b[01;31m\u001b[KDevicesInfo\u001b[m\u001b[K devInfo;\n",
            "              \u001b[01;31m\u001b[K^~~~~~~~~~~\u001b[m\u001b[K\n",
            "\u001b[01m\u001b[Ktest.cpp:13:14:\u001b[m\u001b[K \u001b[01;36m\u001b[Knote: \u001b[m\u001b[Ksuggested alternative: ‘\u001b[01m\u001b[KDevice\u001b[m\u001b[K’\n",
            "     cv::ocl::\u001b[01;36m\u001b[KDevicesInfo\u001b[m\u001b[K devInfo;\n",
            "              \u001b[01;36m\u001b[K^~~~~~~~~~~\u001b[m\u001b[K\n",
            "              \u001b[32m\u001b[KDevice\u001b[m\u001b[K\n",
            "\u001b[01m\u001b[Ktest.cpp:14:24:\u001b[m\u001b[K \u001b[01;31m\u001b[Kerror: \u001b[m\u001b[K‘\u001b[01m\u001b[KgetOpenCLDevices\u001b[m\u001b[K’ is not a member of ‘\u001b[01m\u001b[Kcv::ocl\u001b[m\u001b[K’\n",
            "     int res = cv::ocl::\u001b[01;31m\u001b[KgetOpenCLDevices\u001b[m\u001b[K(devInfo);\n",
            "                        \u001b[01;31m\u001b[K^~~~~~~~~~~~~~~~\u001b[m\u001b[K\n",
            "\u001b[01m\u001b[Ktest.cpp:14:24:\u001b[m\u001b[K \u001b[01;36m\u001b[Knote: \u001b[m\u001b[Ksuggested alternative: ‘\u001b[01m\u001b[KgetOpenCLAllocator\u001b[m\u001b[K’\n",
            "     int res = cv::ocl::\u001b[01;36m\u001b[KgetOpenCLDevices\u001b[m\u001b[K(devInfo);\n",
            "                        \u001b[01;36m\u001b[K^~~~~~~~~~~~~~~~\u001b[m\u001b[K\n",
            "                        \u001b[32m\u001b[KgetOpenCLAllocator\u001b[m\u001b[K\n",
            "\u001b[01m\u001b[Ktest.cpp:14:41:\u001b[m\u001b[K \u001b[01;31m\u001b[Kerror: \u001b[m\u001b[K‘\u001b[01m\u001b[KdevInfo\u001b[m\u001b[K’ was not declared in this scope\n",
            "     int res = cv::ocl::getOpenCLDevices(\u001b[01;31m\u001b[KdevInfo\u001b[m\u001b[K);\n",
            "                                         \u001b[01;31m\u001b[K^~~~~~~\u001b[m\u001b[K\n",
            "\u001b[01m\u001b[Ktest.cpp:25:14:\u001b[m\u001b[K \u001b[01;31m\u001b[Kerror: \u001b[m\u001b[K‘\u001b[01m\u001b[KsetDevice\u001b[m\u001b[K’ is not a member of ‘\u001b[01m\u001b[Kcv::ocl\u001b[m\u001b[K’\n",
            "     cv::ocl::\u001b[01;31m\u001b[KsetDevice\u001b[m\u001b[K(devInfo[0]);        // select device to use\n",
            "              \u001b[01;31m\u001b[K^~~~~~~~~\u001b[m\u001b[K\n",
            "\u001b[01m\u001b[Ktest.cpp:25:14:\u001b[m\u001b[K \u001b[01;36m\u001b[Knote: \u001b[m\u001b[Ksuggested alternative: ‘\u001b[01m\u001b[KDevice\u001b[m\u001b[K’\n",
            "     cv::ocl::\u001b[01;36m\u001b[KsetDevice\u001b[m\u001b[K(devInfo[0]);        // select device to use\n",
            "              \u001b[01;36m\u001b[K^~~~~~~~~\u001b[m\u001b[K\n",
            "              \u001b[32m\u001b[KDevice\u001b[m\u001b[K\n",
            "\u001b[01m\u001b[Ktest.cpp:26:18:\u001b[m\u001b[K \u001b[01;31m\u001b[Kerror: \u001b[m\u001b[K‘\u001b[01m\u001b[KVERSION_EPOCH\u001b[m\u001b[K’ was not declared in this scope\n",
            "     std::cout << \u001b[01;31m\u001b[KVERSION_EPOCH\u001b[m\u001b[K << \".\" << VERSION_MAJOR << \".\" << VERSION_MINOR << std::endl;\n",
            "                  \u001b[01;31m\u001b[K^~~~~~~~~~~~~\u001b[m\u001b[K\n",
            "\u001b[01m\u001b[Ktest.cpp:26:42:\u001b[m\u001b[K \u001b[01;31m\u001b[Kerror: \u001b[m\u001b[K‘\u001b[01m\u001b[KVERSION_MAJOR\u001b[m\u001b[K’ was not declared in this scope\n",
            "     std::cout << VERSION_EPOCH << \".\" << \u001b[01;31m\u001b[KVERSION_MAJOR\u001b[m\u001b[K << \".\" << VERSION_MINOR << std::endl;\n",
            "                                          \u001b[01;31m\u001b[K^~~~~~~~~~~~~\u001b[m\u001b[K\n",
            "\u001b[01m\u001b[Ktest.cpp:26:42:\u001b[m\u001b[K \u001b[01;36m\u001b[Knote: \u001b[m\u001b[Ksuggested alternative: ‘\u001b[01m\u001b[KCV_VERSION_MAJOR\u001b[m\u001b[K’\n",
            "     std::cout << VERSION_EPOCH << \".\" << \u001b[01;36m\u001b[KVERSION_MAJOR\u001b[m\u001b[K << \".\" << VERSION_MINOR << std::endl;\n",
            "                                          \u001b[01;36m\u001b[K^~~~~~~~~~~~~\u001b[m\u001b[K\n",
            "                                          \u001b[32m\u001b[KCV_VERSION_MAJOR\u001b[m\u001b[K\n",
            "\u001b[01m\u001b[Ktest.cpp:26:66:\u001b[m\u001b[K \u001b[01;31m\u001b[Kerror: \u001b[m\u001b[K‘\u001b[01m\u001b[KVERSION_MINOR\u001b[m\u001b[K’ was not declared in this scope\n",
            "     std::cout << VERSION_EPOCH << \".\" << VERSION_MAJOR << \".\" << \u001b[01;31m\u001b[KVERSION_MINOR\u001b[m\u001b[K << std::endl;\n",
            "                                                                  \u001b[01;31m\u001b[K^~~~~~~~~~~~~\u001b[m\u001b[K\n",
            "\u001b[01m\u001b[Ktest.cpp:26:66:\u001b[m\u001b[K \u001b[01;36m\u001b[Knote: \u001b[m\u001b[Ksuggested alternative: ‘\u001b[01m\u001b[KCV_VERSION_MINOR\u001b[m\u001b[K’\n",
            "     std::cout << VERSION_EPOCH << \".\" << VERSION_MAJOR << \".\" << \u001b[01;36m\u001b[KVERSION_MINOR\u001b[m\u001b[K << std::endl;\n",
            "                                                                  \u001b[01;36m\u001b[K^~~~~~~~~~~~~\u001b[m\u001b[K\n",
            "                                                                  \u001b[32m\u001b[KCV_VERSION_MINOR\u001b[m\u001b[K\n",
            "\u001b[01m\u001b[Ktest.cpp:35:54:\u001b[m\u001b[K \u001b[01;31m\u001b[Kerror: \u001b[m\u001b[Kno matching function for call to ‘\u001b[01m\u001b[Kcv::ocl::ProgramSource::ProgramSource(const char [7], const char*&)\u001b[m\u001b[K’\n",
            "     cv::ocl::ProgramSource src(\"square\", KernelSource\u001b[01;31m\u001b[K)\u001b[m\u001b[K;\n",
            "                                                      \u001b[01;31m\u001b[K^\u001b[m\u001b[K\n",
            "In file included from \u001b[01m\u001b[Ktest.cpp:7:0\u001b[m\u001b[K:\n",
            "\u001b[01m\u001b[K/usr/include/opencv2/core/ocl.hpp:636:5:\u001b[m\u001b[K \u001b[01;36m\u001b[Knote: \u001b[m\u001b[Kcandidate: cv::ocl::ProgramSource::ProgramSource(const cv::ocl::ProgramSource&)\n",
            "     \u001b[01;36m\u001b[KProgramSource\u001b[m\u001b[K(const ProgramSource& prog);\n",
            "     \u001b[01;36m\u001b[K^~~~~~~~~~~~~\u001b[m\u001b[K\n",
            "\u001b[01m\u001b[K/usr/include/opencv2/core/ocl.hpp:636:5:\u001b[m\u001b[K \u001b[01;36m\u001b[Knote: \u001b[m\u001b[K  candidate expects 1 argument, 2 provided\n",
            "\u001b[01m\u001b[K/usr/include/opencv2/core/ocl.hpp:634:14:\u001b[m\u001b[K \u001b[01;36m\u001b[Knote: \u001b[m\u001b[Kcandidate: cv::ocl::ProgramSource::ProgramSource(const char*)\n",
            "     explicit \u001b[01;36m\u001b[KProgramSource\u001b[m\u001b[K(const char* prog);\n",
            "              \u001b[01;36m\u001b[K^~~~~~~~~~~~~\u001b[m\u001b[K\n",
            "\u001b[01m\u001b[K/usr/include/opencv2/core/ocl.hpp:634:14:\u001b[m\u001b[K \u001b[01;36m\u001b[Knote: \u001b[m\u001b[K  candidate expects 1 argument, 2 provided\n",
            "\u001b[01m\u001b[K/usr/include/opencv2/core/ocl.hpp:633:14:\u001b[m\u001b[K \u001b[01;36m\u001b[Knote: \u001b[m\u001b[Kcandidate: cv::ocl::ProgramSource::ProgramSource(const cv::String&)\n",
            "     explicit \u001b[01;36m\u001b[KProgramSource\u001b[m\u001b[K(const String& prog);\n",
            "              \u001b[01;36m\u001b[K^~~~~~~~~~~~~\u001b[m\u001b[K\n",
            "\u001b[01m\u001b[K/usr/include/opencv2/core/ocl.hpp:633:14:\u001b[m\u001b[K \u001b[01;36m\u001b[Knote: \u001b[m\u001b[K  candidate expects 1 argument, 2 provided\n",
            "\u001b[01m\u001b[K/usr/include/opencv2/core/ocl.hpp:632:5:\u001b[m\u001b[K \u001b[01;36m\u001b[Knote: \u001b[m\u001b[Kcandidate: cv::ocl::ProgramSource::ProgramSource()\n",
            "     \u001b[01;36m\u001b[KProgramSource\u001b[m\u001b[K();\n",
            "     \u001b[01;36m\u001b[K^~~~~~~~~~~~~\u001b[m\u001b[K\n",
            "\u001b[01m\u001b[K/usr/include/opencv2/core/ocl.hpp:632:5:\u001b[m\u001b[K \u001b[01;36m\u001b[Knote: \u001b[m\u001b[K  candidate expects 0 arguments, 2 provided\n",
            "\u001b[01m\u001b[Ktest.cpp:38:14:\u001b[m\u001b[K \u001b[01;31m\u001b[Kerror: \u001b[m\u001b[K‘\u001b[01m\u001b[KoclMat\u001b[m\u001b[K’ is not a member of ‘\u001b[01m\u001b[Kcv::ocl\u001b[m\u001b[K’\n",
            "     cv::ocl::\u001b[01;31m\u001b[KoclMat\u001b[m\u001b[K source(cv::Size(500,500), CV_8UC1);\n",
            "              \u001b[01;31m\u001b[K^~~~~~\u001b[m\u001b[K\n",
            "\u001b[01m\u001b[Ktest.cpp:39:14:\u001b[m\u001b[K \u001b[01;31m\u001b[Kerror: \u001b[m\u001b[K‘\u001b[01m\u001b[KoclMat\u001b[m\u001b[K’ is not a member of ‘\u001b[01m\u001b[Kcv::ocl\u001b[m\u001b[K’\n",
            "     cv::ocl::\u001b[01;31m\u001b[KoclMat\u001b[m\u001b[K dest(cv::Size(500,500), CV_8UC1);\n",
            "              \u001b[01;31m\u001b[K^~~~~~\u001b[m\u001b[K\n",
            "\u001b[01m\u001b[Ktest.cpp:42:50:\u001b[m\u001b[K \u001b[01;31m\u001b[Kerror: \u001b[m\u001b[K‘\u001b[01m\u001b[Ksource\u001b[m\u001b[K’ was not declared in this scope\n",
            "     args.push_back( std::make_pair( 4, (void *) &\u001b[01;31m\u001b[Ksource\u001b[m\u001b[K.data ));\n",
            "                                                  \u001b[01;31m\u001b[K^~~~~~\u001b[m\u001b[K\n",
            "\u001b[01m\u001b[Ktest.cpp:42:50:\u001b[m\u001b[K \u001b[01;36m\u001b[Knote: \u001b[m\u001b[Ksuggested alternative: ‘\u001b[01m\u001b[Ksrc\u001b[m\u001b[K’\n",
            "     args.push_back( std::make_pair( 4, (void *) &\u001b[01;36m\u001b[Ksource\u001b[m\u001b[K.data ));\n",
            "                                                  \u001b[01;36m\u001b[K^~~~~~\u001b[m\u001b[K\n",
            "                                                  \u001b[32m\u001b[Ksrc\u001b[m\u001b[K\n",
            "\u001b[01m\u001b[Ktest.cpp:43:50:\u001b[m\u001b[K \u001b[01;31m\u001b[Kerror: \u001b[m\u001b[K‘\u001b[01m\u001b[Kdest\u001b[m\u001b[K’ was not declared in this scope\n",
            "     args.push_back( std::make_pair( 4, (void *) &\u001b[01;31m\u001b[Kdest\u001b[m\u001b[K.data ));\n",
            "                                                  \u001b[01;31m\u001b[K^~~~\u001b[m\u001b[K\n",
            "\u001b[01m\u001b[Ktest.cpp:43:50:\u001b[m\u001b[K \u001b[01;36m\u001b[Knote: \u001b[m\u001b[Ksuggested alternative: ‘\u001b[01m\u001b[Kres\u001b[m\u001b[K’\n",
            "     args.push_back( std::make_pair( 4, (void *) &\u001b[01;36m\u001b[Kdest\u001b[m\u001b[K.data ));\n",
            "                                                  \u001b[01;36m\u001b[K^~~~\u001b[m\u001b[K\n",
            "                                                  \u001b[32m\u001b[Kres\u001b[m\u001b[K\n",
            "\u001b[01m\u001b[Ktest.cpp:45:10:\u001b[m\u001b[K \u001b[01;31m\u001b[Kerror: \u001b[m\u001b[K‘\u001b[01m\u001b[KopenCLExecuteKernelInterop\u001b[m\u001b[K’ is not a member of ‘\u001b[01m\u001b[Kcv::ocl\u001b[m\u001b[K’\n",
            " cv::ocl::\u001b[01;31m\u001b[KopenCLExecuteKernelInterop\u001b[m\u001b[K(cv::ocl::Context::getContext(), src, \"square\",\n",
            "          \u001b[01;31m\u001b[K^~~~~~~~~~~~~~~~~~~~~~~~~~\u001b[m\u001b[K\n",
            "\u001b[01m\u001b[Ktest.cpp:45:55:\u001b[m\u001b[K \u001b[01;31m\u001b[Kerror: \u001b[m\u001b[K‘\u001b[01m\u001b[KgetContext\u001b[m\u001b[K’ is not a member of ‘\u001b[01m\u001b[Kcv::ocl::Context\u001b[m\u001b[K’\n",
            " cv::ocl::openCLExecuteKernelInterop(cv::ocl::Context::\u001b[01;31m\u001b[KgetContext\u001b[m\u001b[K(), src, \"square\",\n",
            "                                                       \u001b[01;31m\u001b[K^~~~~~~~~~\u001b[m\u001b[K\n"
          ],
          "name": "stdout"
        }
      ]
    }
  ]
}